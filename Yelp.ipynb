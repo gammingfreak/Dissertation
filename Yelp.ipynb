{
 "cells": [
  {
   "cell_type": "code",
   "execution_count": 12,
   "metadata": {},
   "outputs": [],
   "source": [
    "from textblob import TextBlob, Word, Blobber\n",
    "from textblob.classifiers import NaiveBayesClassifier\n",
    "from textblob.taggers import NLTKTagger"
   ]
  },
  {
   "cell_type": "code",
   "execution_count": 13,
   "metadata": {},
   "outputs": [],
   "source": [
    "from nltk.stem.porter import PorterStemmer"
   ]
  },
  {
   "cell_type": "code",
   "execution_count": 14,
   "metadata": {},
   "outputs": [],
   "source": [
    "import pandas as pd\n",
    "import textstat\n",
    "import numpy as np\n",
    "from sklearn.metrics import precision_recall_fscore_support\n",
    "from sklearn.metrics import classification_report\n",
    "from sklearn import tree\n",
    "from sklearn.model_selection import train_test_split\n",
    "from sklearn.metrics import accuracy_score\n",
    "from sklearn.ensemble import RandomForestClassifier\n",
    "from sklearn import svm\n",
    "from sklearn.metrics import roc_auc_score\n",
    "from sklearn.svm import SVC\n",
    "from sklearn.linear_model import LinearRegression\n",
    "from sklearn.metrics import mean_squared_error, r2_score\n",
    "from sklearn.ensemble import RandomForestRegressor\n",
    "from sklearn import preprocessing\n",
    "from sklearn.feature_extraction.text import CountVectorizer\n",
    "from sklearn.feature_extraction.text import TfidfVectorizer\n",
    "from nltk.stem.porter import PorterStemmer\n",
    "from sklearn.linear_model import Ridge\n",
    "import datetime as dt\n",
    "from sklearn.metrics import r2_score\n",
    "import seaborn as sns\n",
    "from scipy import stats"
   ]
  },
  {
   "cell_type": "code",
   "execution_count": 15,
   "metadata": {},
   "outputs": [],
   "source": [
    "path_business=\"D:/Trinity_DS/Dissertations/201907/dataset_v2/Business_Toronto_Restaurant.csv\"\n",
    "path_review=\"D:/Trinity_DS/Dissertations/201907/dataset_v2/Review_Toronto_Restaurant.csv\"\n",
    "path_user=\"D:/Trinity_DS/Dissertations/201907/dataset_v2/User_Toronto_Restaurant.csv\""
   ]
  },
  {
   "cell_type": "code",
   "execution_count": 16,
   "metadata": {},
   "outputs": [],
   "source": [
    "df_business = pd.read_csv(path_business,low_memory=False)"
   ]
  },
  {
   "cell_type": "code",
   "execution_count": 17,
   "metadata": {},
   "outputs": [],
   "source": [
    "df_review = pd.read_csv(path_review,low_memory=False,encoding='iso-8859-1')\n",
    "df_user = pd.read_csv(path_user,low_memory=False,encoding='iso-8859-1')"
   ]
  },
  {
   "cell_type": "code",
   "execution_count": 18,
   "metadata": {},
   "outputs": [
    {
     "data": {
      "text/html": [
       "<div>\n",
       "<style scoped>\n",
       "    .dataframe tbody tr th:only-of-type {\n",
       "        vertical-align: middle;\n",
       "    }\n",
       "\n",
       "    .dataframe tbody tr th {\n",
       "        vertical-align: top;\n",
       "    }\n",
       "\n",
       "    .dataframe thead th {\n",
       "        text-align: right;\n",
       "    }\n",
       "</style>\n",
       "<table border=\"1\" class=\"dataframe\">\n",
       "  <thead>\n",
       "    <tr style=\"text-align: right;\">\n",
       "      <th></th>\n",
       "      <th>neighborhood</th>\n",
       "      <th>city</th>\n",
       "      <th>state</th>\n",
       "      <th>postal_code</th>\n",
       "      <th>latitude</th>\n",
       "      <th>longitude</th>\n",
       "      <th>stars</th>\n",
       "      <th>review_count</th>\n",
       "      <th>is_open</th>\n",
       "      <th>Food</th>\n",
       "      <th>...</th>\n",
       "      <th>dinner</th>\n",
       "      <th>breakfast</th>\n",
       "      <th>brunch</th>\n",
       "      <th>dairy-free</th>\n",
       "      <th>gluten-free</th>\n",
       "      <th>vegan</th>\n",
       "      <th>kosher</th>\n",
       "      <th>halal</th>\n",
       "      <th>soy-free</th>\n",
       "      <th>vegetarian</th>\n",
       "    </tr>\n",
       "  </thead>\n",
       "  <tbody>\n",
       "    <tr>\n",
       "      <th>0</th>\n",
       "      <td>Yonge and Eglinton</td>\n",
       "      <td>Toronto</td>\n",
       "      <td>ON</td>\n",
       "      <td>M4P 2H6</td>\n",
       "      <td>43.71140</td>\n",
       "      <td>-79.39934</td>\n",
       "      <td>3.0</td>\n",
       "      <td>12</td>\n",
       "      <td>0</td>\n",
       "      <td>0</td>\n",
       "      <td>...</td>\n",
       "      <td>True</td>\n",
       "      <td>False</td>\n",
       "      <td>False</td>\n",
       "      <td>NaN</td>\n",
       "      <td>NaN</td>\n",
       "      <td>NaN</td>\n",
       "      <td>NaN</td>\n",
       "      <td>NaN</td>\n",
       "      <td>NaN</td>\n",
       "      <td>NaN</td>\n",
       "    </tr>\n",
       "    <tr>\n",
       "      <th>1</th>\n",
       "      <td>Leslieville</td>\n",
       "      <td>Toronto</td>\n",
       "      <td>ON</td>\n",
       "      <td>M4M 3A6</td>\n",
       "      <td>43.66926</td>\n",
       "      <td>-79.33590</td>\n",
       "      <td>3.5</td>\n",
       "      <td>39</td>\n",
       "      <td>1</td>\n",
       "      <td>0</td>\n",
       "      <td>...</td>\n",
       "      <td>True</td>\n",
       "      <td>False</td>\n",
       "      <td>True</td>\n",
       "      <td>NaN</td>\n",
       "      <td>NaN</td>\n",
       "      <td>NaN</td>\n",
       "      <td>NaN</td>\n",
       "      <td>NaN</td>\n",
       "      <td>NaN</td>\n",
       "      <td>NaN</td>\n",
       "    </tr>\n",
       "    <tr>\n",
       "      <th>2</th>\n",
       "      <td>NaN</td>\n",
       "      <td>Toronto</td>\n",
       "      <td>ON</td>\n",
       "      <td>M3J 3K5</td>\n",
       "      <td>43.78182</td>\n",
       "      <td>-79.49043</td>\n",
       "      <td>5.0</td>\n",
       "      <td>3</td>\n",
       "      <td>1</td>\n",
       "      <td>0</td>\n",
       "      <td>...</td>\n",
       "      <td>False</td>\n",
       "      <td>False</td>\n",
       "      <td>False</td>\n",
       "      <td>NaN</td>\n",
       "      <td>NaN</td>\n",
       "      <td>NaN</td>\n",
       "      <td>NaN</td>\n",
       "      <td>NaN</td>\n",
       "      <td>NaN</td>\n",
       "      <td>NaN</td>\n",
       "    </tr>\n",
       "    <tr>\n",
       "      <th>3</th>\n",
       "      <td>NaN</td>\n",
       "      <td>Toronto</td>\n",
       "      <td>ON</td>\n",
       "      <td>M5S 1H6</td>\n",
       "      <td>43.66158</td>\n",
       "      <td>-79.40888</td>\n",
       "      <td>4.0</td>\n",
       "      <td>55</td>\n",
       "      <td>1</td>\n",
       "      <td>1</td>\n",
       "      <td>...</td>\n",
       "      <td>NaN</td>\n",
       "      <td>NaN</td>\n",
       "      <td>NaN</td>\n",
       "      <td>NaN</td>\n",
       "      <td>NaN</td>\n",
       "      <td>NaN</td>\n",
       "      <td>NaN</td>\n",
       "      <td>NaN</td>\n",
       "      <td>NaN</td>\n",
       "      <td>NaN</td>\n",
       "    </tr>\n",
       "    <tr>\n",
       "      <th>4</th>\n",
       "      <td>NaN</td>\n",
       "      <td>Toronto</td>\n",
       "      <td>ON</td>\n",
       "      <td>M3J 1P3</td>\n",
       "      <td>43.77488</td>\n",
       "      <td>-79.49462</td>\n",
       "      <td>3.0</td>\n",
       "      <td>5</td>\n",
       "      <td>1</td>\n",
       "      <td>1</td>\n",
       "      <td>...</td>\n",
       "      <td>False</td>\n",
       "      <td>False</td>\n",
       "      <td>False</td>\n",
       "      <td>NaN</td>\n",
       "      <td>NaN</td>\n",
       "      <td>NaN</td>\n",
       "      <td>NaN</td>\n",
       "      <td>NaN</td>\n",
       "      <td>NaN</td>\n",
       "      <td>NaN</td>\n",
       "    </tr>\n",
       "  </tbody>\n",
       "</table>\n",
       "<p>5 rows × 113 columns</p>\n",
       "</div>"
      ],
      "text/plain": [
       "         neighborhood     city state postal_code  latitude  longitude  stars  \\\n",
       "0  Yonge and Eglinton  Toronto    ON     M4P 2H6  43.71140  -79.39934    3.0   \n",
       "1         Leslieville  Toronto    ON     M4M 3A6  43.66926  -79.33590    3.5   \n",
       "2                 NaN  Toronto    ON     M3J 3K5  43.78182  -79.49043    5.0   \n",
       "3                 NaN  Toronto    ON     M5S 1H6  43.66158  -79.40888    4.0   \n",
       "4                 NaN  Toronto    ON     M3J 1P3  43.77488  -79.49462    3.0   \n",
       "\n",
       "   review_count  is_open  Food  ...  dinner  breakfast  brunch  dairy-free  \\\n",
       "0            12        0     0  ...    True      False   False         NaN   \n",
       "1            39        1     0  ...    True      False    True         NaN   \n",
       "2             3        1     0  ...   False      False   False         NaN   \n",
       "3            55        1     1  ...     NaN        NaN     NaN         NaN   \n",
       "4             5        1     1  ...   False      False   False         NaN   \n",
       "\n",
       "   gluten-free  vegan  kosher  halal  soy-free  vegetarian  \n",
       "0          NaN    NaN     NaN    NaN       NaN         NaN  \n",
       "1          NaN    NaN     NaN    NaN       NaN         NaN  \n",
       "2          NaN    NaN     NaN    NaN       NaN         NaN  \n",
       "3          NaN    NaN     NaN    NaN       NaN         NaN  \n",
       "4          NaN    NaN     NaN    NaN       NaN         NaN  \n",
       "\n",
       "[5 rows x 113 columns]"
      ]
     },
     "execution_count": 18,
     "metadata": {},
     "output_type": "execute_result"
    }
   ],
   "source": [
    "df_business=df_business.drop(df_business.columns[0], axis=1)\n",
    "df_business.head()"
   ]
  },
  {
   "cell_type": "code",
   "execution_count": 19,
   "metadata": {},
   "outputs": [
    {
     "data": {
      "text/html": [
       "<div>\n",
       "<style scoped>\n",
       "    .dataframe tbody tr th:only-of-type {\n",
       "        vertical-align: middle;\n",
       "    }\n",
       "\n",
       "    .dataframe tbody tr th {\n",
       "        vertical-align: top;\n",
       "    }\n",
       "\n",
       "    .dataframe thead th {\n",
       "        text-align: right;\n",
       "    }\n",
       "</style>\n",
       "<table border=\"1\" class=\"dataframe\">\n",
       "  <thead>\n",
       "    <tr style=\"text-align: right;\">\n",
       "      <th></th>\n",
       "      <th>latitude</th>\n",
       "      <th>longitude</th>\n",
       "      <th>stars</th>\n",
       "      <th>review_count</th>\n",
       "      <th>is_open</th>\n",
       "      <th>Food</th>\n",
       "      <th>Nightlife</th>\n",
       "      <th>Bars</th>\n",
       "      <th>Canadian (New)</th>\n",
       "      <th>Sandwiches</th>\n",
       "      <th>...</th>\n",
       "      <th>American (Traditional)</th>\n",
       "      <th>Indian</th>\n",
       "      <th>Middle Eastern</th>\n",
       "      <th>Thai</th>\n",
       "      <th>Mediterranean</th>\n",
       "      <th>Asian Fusion</th>\n",
       "      <th>Mexican</th>\n",
       "      <th>Korean</th>\n",
       "      <th>Seafood</th>\n",
       "      <th>RestaurantsPriceRange2</th>\n",
       "    </tr>\n",
       "  </thead>\n",
       "  <tbody>\n",
       "    <tr>\n",
       "      <th>count</th>\n",
       "      <td>7148.000000</td>\n",
       "      <td>7148.000000</td>\n",
       "      <td>7148.000000</td>\n",
       "      <td>7148.000000</td>\n",
       "      <td>7148.000000</td>\n",
       "      <td>7148.000000</td>\n",
       "      <td>7148.000000</td>\n",
       "      <td>7148.000000</td>\n",
       "      <td>7148.000000</td>\n",
       "      <td>7148.000000</td>\n",
       "      <td>...</td>\n",
       "      <td>7148.000000</td>\n",
       "      <td>7148.000000</td>\n",
       "      <td>7148.000000</td>\n",
       "      <td>7148.000000</td>\n",
       "      <td>7148.000000</td>\n",
       "      <td>7148.000000</td>\n",
       "      <td>7148.000000</td>\n",
       "      <td>7148.000000</td>\n",
       "      <td>7148.000000</td>\n",
       "      <td>6499.000000</td>\n",
       "    </tr>\n",
       "    <tr>\n",
       "      <th>mean</th>\n",
       "      <td>43.681280</td>\n",
       "      <td>-79.392130</td>\n",
       "      <td>3.423475</td>\n",
       "      <td>42.495383</td>\n",
       "      <td>0.695020</td>\n",
       "      <td>0.206771</td>\n",
       "      <td>0.131505</td>\n",
       "      <td>0.126889</td>\n",
       "      <td>0.087997</td>\n",
       "      <td>0.086598</td>\n",
       "      <td>...</td>\n",
       "      <td>0.045467</td>\n",
       "      <td>0.040711</td>\n",
       "      <td>0.038472</td>\n",
       "      <td>0.038472</td>\n",
       "      <td>0.037213</td>\n",
       "      <td>0.037073</td>\n",
       "      <td>0.033996</td>\n",
       "      <td>0.033436</td>\n",
       "      <td>0.031757</td>\n",
       "      <td>1.824127</td>\n",
       "    </tr>\n",
       "    <tr>\n",
       "      <th>std</th>\n",
       "      <td>0.046416</td>\n",
       "      <td>0.061094</td>\n",
       "      <td>0.741883</td>\n",
       "      <td>73.356545</td>\n",
       "      <td>0.460431</td>\n",
       "      <td>0.405018</td>\n",
       "      <td>0.337976</td>\n",
       "      <td>0.332871</td>\n",
       "      <td>0.283310</td>\n",
       "      <td>0.281264</td>\n",
       "      <td>...</td>\n",
       "      <td>0.208341</td>\n",
       "      <td>0.197633</td>\n",
       "      <td>0.192347</td>\n",
       "      <td>0.192347</td>\n",
       "      <td>0.189297</td>\n",
       "      <td>0.188955</td>\n",
       "      <td>0.181230</td>\n",
       "      <td>0.179785</td>\n",
       "      <td>0.175365</td>\n",
       "      <td>0.640288</td>\n",
       "    </tr>\n",
       "    <tr>\n",
       "      <th>min</th>\n",
       "      <td>43.589600</td>\n",
       "      <td>-79.703390</td>\n",
       "      <td>1.000000</td>\n",
       "      <td>3.000000</td>\n",
       "      <td>0.000000</td>\n",
       "      <td>0.000000</td>\n",
       "      <td>0.000000</td>\n",
       "      <td>0.000000</td>\n",
       "      <td>0.000000</td>\n",
       "      <td>0.000000</td>\n",
       "      <td>...</td>\n",
       "      <td>0.000000</td>\n",
       "      <td>0.000000</td>\n",
       "      <td>0.000000</td>\n",
       "      <td>0.000000</td>\n",
       "      <td>0.000000</td>\n",
       "      <td>0.000000</td>\n",
       "      <td>0.000000</td>\n",
       "      <td>0.000000</td>\n",
       "      <td>0.000000</td>\n",
       "      <td>1.000000</td>\n",
       "    </tr>\n",
       "    <tr>\n",
       "      <th>25%</th>\n",
       "      <td>43.650950</td>\n",
       "      <td>-79.417725</td>\n",
       "      <td>3.000000</td>\n",
       "      <td>7.000000</td>\n",
       "      <td>0.000000</td>\n",
       "      <td>0.000000</td>\n",
       "      <td>0.000000</td>\n",
       "      <td>0.000000</td>\n",
       "      <td>0.000000</td>\n",
       "      <td>0.000000</td>\n",
       "      <td>...</td>\n",
       "      <td>0.000000</td>\n",
       "      <td>0.000000</td>\n",
       "      <td>0.000000</td>\n",
       "      <td>0.000000</td>\n",
       "      <td>0.000000</td>\n",
       "      <td>0.000000</td>\n",
       "      <td>0.000000</td>\n",
       "      <td>0.000000</td>\n",
       "      <td>0.000000</td>\n",
       "      <td>1.000000</td>\n",
       "    </tr>\n",
       "    <tr>\n",
       "      <th>50%</th>\n",
       "      <td>43.664115</td>\n",
       "      <td>-79.393495</td>\n",
       "      <td>3.500000</td>\n",
       "      <td>18.000000</td>\n",
       "      <td>1.000000</td>\n",
       "      <td>0.000000</td>\n",
       "      <td>0.000000</td>\n",
       "      <td>0.000000</td>\n",
       "      <td>0.000000</td>\n",
       "      <td>0.000000</td>\n",
       "      <td>...</td>\n",
       "      <td>0.000000</td>\n",
       "      <td>0.000000</td>\n",
       "      <td>0.000000</td>\n",
       "      <td>0.000000</td>\n",
       "      <td>0.000000</td>\n",
       "      <td>0.000000</td>\n",
       "      <td>0.000000</td>\n",
       "      <td>0.000000</td>\n",
       "      <td>0.000000</td>\n",
       "      <td>2.000000</td>\n",
       "    </tr>\n",
       "    <tr>\n",
       "      <th>75%</th>\n",
       "      <td>43.696838</td>\n",
       "      <td>-79.373350</td>\n",
       "      <td>4.000000</td>\n",
       "      <td>48.000000</td>\n",
       "      <td>1.000000</td>\n",
       "      <td>0.000000</td>\n",
       "      <td>0.000000</td>\n",
       "      <td>0.000000</td>\n",
       "      <td>0.000000</td>\n",
       "      <td>0.000000</td>\n",
       "      <td>...</td>\n",
       "      <td>0.000000</td>\n",
       "      <td>0.000000</td>\n",
       "      <td>0.000000</td>\n",
       "      <td>0.000000</td>\n",
       "      <td>0.000000</td>\n",
       "      <td>0.000000</td>\n",
       "      <td>0.000000</td>\n",
       "      <td>0.000000</td>\n",
       "      <td>0.000000</td>\n",
       "      <td>2.000000</td>\n",
       "    </tr>\n",
       "    <tr>\n",
       "      <th>max</th>\n",
       "      <td>43.876500</td>\n",
       "      <td>-79.137540</td>\n",
       "      <td>5.000000</td>\n",
       "      <td>1494.000000</td>\n",
       "      <td>1.000000</td>\n",
       "      <td>1.000000</td>\n",
       "      <td>1.000000</td>\n",
       "      <td>1.000000</td>\n",
       "      <td>1.000000</td>\n",
       "      <td>1.000000</td>\n",
       "      <td>...</td>\n",
       "      <td>1.000000</td>\n",
       "      <td>1.000000</td>\n",
       "      <td>1.000000</td>\n",
       "      <td>1.000000</td>\n",
       "      <td>1.000000</td>\n",
       "      <td>1.000000</td>\n",
       "      <td>1.000000</td>\n",
       "      <td>1.000000</td>\n",
       "      <td>1.000000</td>\n",
       "      <td>4.000000</td>\n",
       "    </tr>\n",
       "  </tbody>\n",
       "</table>\n",
       "<p>8 rows × 30 columns</p>\n",
       "</div>"
      ],
      "text/plain": [
       "          latitude    longitude        stars  review_count      is_open  \\\n",
       "count  7148.000000  7148.000000  7148.000000   7148.000000  7148.000000   \n",
       "mean     43.681280   -79.392130     3.423475     42.495383     0.695020   \n",
       "std       0.046416     0.061094     0.741883     73.356545     0.460431   \n",
       "min      43.589600   -79.703390     1.000000      3.000000     0.000000   \n",
       "25%      43.650950   -79.417725     3.000000      7.000000     0.000000   \n",
       "50%      43.664115   -79.393495     3.500000     18.000000     1.000000   \n",
       "75%      43.696838   -79.373350     4.000000     48.000000     1.000000   \n",
       "max      43.876500   -79.137540     5.000000   1494.000000     1.000000   \n",
       "\n",
       "              Food    Nightlife         Bars  Canadian (New)   Sandwiches  \\\n",
       "count  7148.000000  7148.000000  7148.000000     7148.000000  7148.000000   \n",
       "mean      0.206771     0.131505     0.126889        0.087997     0.086598   \n",
       "std       0.405018     0.337976     0.332871        0.283310     0.281264   \n",
       "min       0.000000     0.000000     0.000000        0.000000     0.000000   \n",
       "25%       0.000000     0.000000     0.000000        0.000000     0.000000   \n",
       "50%       0.000000     0.000000     0.000000        0.000000     0.000000   \n",
       "75%       0.000000     0.000000     0.000000        0.000000     0.000000   \n",
       "max       1.000000     1.000000     1.000000        1.000000     1.000000   \n",
       "\n",
       "       ...  American (Traditional)       Indian  Middle Eastern         Thai  \\\n",
       "count  ...             7148.000000  7148.000000     7148.000000  7148.000000   \n",
       "mean   ...                0.045467     0.040711        0.038472     0.038472   \n",
       "std    ...                0.208341     0.197633        0.192347     0.192347   \n",
       "min    ...                0.000000     0.000000        0.000000     0.000000   \n",
       "25%    ...                0.000000     0.000000        0.000000     0.000000   \n",
       "50%    ...                0.000000     0.000000        0.000000     0.000000   \n",
       "75%    ...                0.000000     0.000000        0.000000     0.000000   \n",
       "max    ...                1.000000     1.000000        1.000000     1.000000   \n",
       "\n",
       "       Mediterranean  Asian Fusion      Mexican       Korean      Seafood  \\\n",
       "count    7148.000000   7148.000000  7148.000000  7148.000000  7148.000000   \n",
       "mean        0.037213      0.037073     0.033996     0.033436     0.031757   \n",
       "std         0.189297      0.188955     0.181230     0.179785     0.175365   \n",
       "min         0.000000      0.000000     0.000000     0.000000     0.000000   \n",
       "25%         0.000000      0.000000     0.000000     0.000000     0.000000   \n",
       "50%         0.000000      0.000000     0.000000     0.000000     0.000000   \n",
       "75%         0.000000      0.000000     0.000000     0.000000     0.000000   \n",
       "max         1.000000      1.000000     1.000000     1.000000     1.000000   \n",
       "\n",
       "       RestaurantsPriceRange2  \n",
       "count             6499.000000  \n",
       "mean                 1.824127  \n",
       "std                  0.640288  \n",
       "min                  1.000000  \n",
       "25%                  1.000000  \n",
       "50%                  2.000000  \n",
       "75%                  2.000000  \n",
       "max                  4.000000  \n",
       "\n",
       "[8 rows x 30 columns]"
      ]
     },
     "execution_count": 19,
     "metadata": {},
     "output_type": "execute_result"
    }
   ],
   "source": [
    "df_business.describe()"
   ]
  },
  {
   "cell_type": "code",
   "execution_count": 20,
   "metadata": {},
   "outputs": [
    {
     "data": {
      "text/html": [
       "<div>\n",
       "<style scoped>\n",
       "    .dataframe tbody tr th:only-of-type {\n",
       "        vertical-align: middle;\n",
       "    }\n",
       "\n",
       "    .dataframe tbody tr th {\n",
       "        vertical-align: top;\n",
       "    }\n",
       "\n",
       "    .dataframe thead th {\n",
       "        text-align: right;\n",
       "    }\n",
       "</style>\n",
       "<table border=\"1\" class=\"dataframe\">\n",
       "  <thead>\n",
       "    <tr style=\"text-align: right;\">\n",
       "      <th></th>\n",
       "      <th>review_id</th>\n",
       "      <th>user_id</th>\n",
       "      <th>business_id</th>\n",
       "      <th>stars</th>\n",
       "      <th>date</th>\n",
       "      <th>text</th>\n",
       "      <th>useful</th>\n",
       "      <th>funny</th>\n",
       "      <th>cool</th>\n",
       "    </tr>\n",
       "  </thead>\n",
       "  <tbody>\n",
       "    <tr>\n",
       "      <th>0</th>\n",
       "      <td>ymAUG8DZfQcFTBSOiaNN4w</td>\n",
       "      <td>u0LXt3Uea_GidxRW1xcsfg</td>\n",
       "      <td>9_CGhHMz8698M9-PkVf0CQ</td>\n",
       "      <td>4</td>\n",
       "      <td>5/11/2012</td>\n",
       "      <td>Who would have guess that you would be able to...</td>\n",
       "      <td>0</td>\n",
       "      <td>0</td>\n",
       "      <td>2</td>\n",
       "    </tr>\n",
       "    <tr>\n",
       "      <th>1</th>\n",
       "      <td>w41ZS9shepfO3uEyhXEWuQ</td>\n",
       "      <td>u0LXt3Uea_GidxRW1xcsfg</td>\n",
       "      <td>5r6-G9C4YLbC7Ziz57l3rQ</td>\n",
       "      <td>3</td>\n",
       "      <td>2/9/2013</td>\n",
       "      <td>Not bad!! Love that there is a gluten-free, ve...</td>\n",
       "      <td>1</td>\n",
       "      <td>0</td>\n",
       "      <td>0</td>\n",
       "    </tr>\n",
       "    <tr>\n",
       "      <th>2</th>\n",
       "      <td>PIsUSmvaUWB00qv5KTF1xA</td>\n",
       "      <td>u0LXt3Uea_GidxRW1xcsfg</td>\n",
       "      <td>z8oIoCT1cXz7gZP5GeU5OA</td>\n",
       "      <td>4</td>\n",
       "      <td>5/1/2013</td>\n",
       "      <td>This is currently my parents new favourite res...</td>\n",
       "      <td>1</td>\n",
       "      <td>0</td>\n",
       "      <td>0</td>\n",
       "    </tr>\n",
       "    <tr>\n",
       "      <th>3</th>\n",
       "      <td>PdZ_uFjbbkjtm3SCY_KrZw</td>\n",
       "      <td>u0LXt3Uea_GidxRW1xcsfg</td>\n",
       "      <td>XWTPNfskXoUL-Lf32wSk0Q</td>\n",
       "      <td>3</td>\n",
       "      <td>9/28/2011</td>\n",
       "      <td>Server was a little rude.\\r\\n\\r\\nOrdered the c...</td>\n",
       "      <td>5</td>\n",
       "      <td>0</td>\n",
       "      <td>1</td>\n",
       "    </tr>\n",
       "    <tr>\n",
       "      <th>4</th>\n",
       "      <td>lsoSqIrrDbQvWpMvsSj2xw</td>\n",
       "      <td>u0LXt3Uea_GidxRW1xcsfg</td>\n",
       "      <td>RtUvSWO_UZ8V3Wpj0n077w</td>\n",
       "      <td>3</td>\n",
       "      <td>12/3/2012</td>\n",
       "      <td>Wanted to check out this place due to all the ...</td>\n",
       "      <td>2</td>\n",
       "      <td>1</td>\n",
       "      <td>1</td>\n",
       "    </tr>\n",
       "  </tbody>\n",
       "</table>\n",
       "</div>"
      ],
      "text/plain": [
       "                review_id                 user_id             business_id  \\\n",
       "0  ymAUG8DZfQcFTBSOiaNN4w  u0LXt3Uea_GidxRW1xcsfg  9_CGhHMz8698M9-PkVf0CQ   \n",
       "1  w41ZS9shepfO3uEyhXEWuQ  u0LXt3Uea_GidxRW1xcsfg  5r6-G9C4YLbC7Ziz57l3rQ   \n",
       "2  PIsUSmvaUWB00qv5KTF1xA  u0LXt3Uea_GidxRW1xcsfg  z8oIoCT1cXz7gZP5GeU5OA   \n",
       "3  PdZ_uFjbbkjtm3SCY_KrZw  u0LXt3Uea_GidxRW1xcsfg  XWTPNfskXoUL-Lf32wSk0Q   \n",
       "4  lsoSqIrrDbQvWpMvsSj2xw  u0LXt3Uea_GidxRW1xcsfg  RtUvSWO_UZ8V3Wpj0n077w   \n",
       "\n",
       "   stars       date                                               text  \\\n",
       "0      4  5/11/2012  Who would have guess that you would be able to...   \n",
       "1      3   2/9/2013  Not bad!! Love that there is a gluten-free, ve...   \n",
       "2      4   5/1/2013  This is currently my parents new favourite res...   \n",
       "3      3  9/28/2011  Server was a little rude.\\r\\n\\r\\nOrdered the c...   \n",
       "4      3  12/3/2012  Wanted to check out this place due to all the ...   \n",
       "\n",
       "   useful  funny  cool  \n",
       "0       0      0     2  \n",
       "1       1      0     0  \n",
       "2       1      0     0  \n",
       "3       5      0     1  \n",
       "4       2      1     1  "
      ]
     },
     "execution_count": 20,
     "metadata": {},
     "output_type": "execute_result"
    }
   ],
   "source": [
    "df_review=df_review.drop(df_review.columns[0], axis=1)\n",
    "df_review.head()"
   ]
  },
  {
   "cell_type": "code",
   "execution_count": 21,
   "metadata": {},
   "outputs": [
    {
     "data": {
      "text/html": [
       "<div>\n",
       "<style scoped>\n",
       "    .dataframe tbody tr th:only-of-type {\n",
       "        vertical-align: middle;\n",
       "    }\n",
       "\n",
       "    .dataframe tbody tr th {\n",
       "        vertical-align: top;\n",
       "    }\n",
       "\n",
       "    .dataframe thead th {\n",
       "        text-align: right;\n",
       "    }\n",
       "</style>\n",
       "<table border=\"1\" class=\"dataframe\">\n",
       "  <thead>\n",
       "    <tr style=\"text-align: right;\">\n",
       "      <th></th>\n",
       "      <th>user_id</th>\n",
       "      <th>name</th>\n",
       "      <th>review_count</th>\n",
       "      <th>yelping_since</th>\n",
       "      <th>useful</th>\n",
       "      <th>funny</th>\n",
       "      <th>cool</th>\n",
       "      <th>elite</th>\n",
       "      <th>friends</th>\n",
       "      <th>fans</th>\n",
       "      <th>...</th>\n",
       "      <th>compliment_more</th>\n",
       "      <th>compliment_profile</th>\n",
       "      <th>compliment_cute</th>\n",
       "      <th>compliment_list</th>\n",
       "      <th>compliment_note</th>\n",
       "      <th>compliment_plain</th>\n",
       "      <th>compliment_cool</th>\n",
       "      <th>compliment_funny</th>\n",
       "      <th>compliment_writer</th>\n",
       "      <th>compliment_photos</th>\n",
       "    </tr>\n",
       "  </thead>\n",
       "  <tbody>\n",
       "    <tr>\n",
       "      <th>0</th>\n",
       "      <td>--Br-QsbO9ad5GbZxVGxaw</td>\n",
       "      <td>Melanie</td>\n",
       "      <td>12</td>\n",
       "      <td>2015-06-10 00:58:00</td>\n",
       "      <td>21</td>\n",
       "      <td>5</td>\n",
       "      <td>2</td>\n",
       "      <td>NaN</td>\n",
       "      <td>None</td>\n",
       "      <td>0</td>\n",
       "      <td>...</td>\n",
       "      <td>0</td>\n",
       "      <td>0</td>\n",
       "      <td>0</td>\n",
       "      <td>0</td>\n",
       "      <td>0</td>\n",
       "      <td>0</td>\n",
       "      <td>0</td>\n",
       "      <td>0</td>\n",
       "      <td>0</td>\n",
       "      <td>0</td>\n",
       "    </tr>\n",
       "    <tr>\n",
       "      <th>1</th>\n",
       "      <td>--BumyUHiO_7YsHurb9Hkw</td>\n",
       "      <td>Sapna</td>\n",
       "      <td>76</td>\n",
       "      <td>2017-01-13 13:32:40</td>\n",
       "      <td>43</td>\n",
       "      <td>8</td>\n",
       "      <td>13</td>\n",
       "      <td>2017,2018</td>\n",
       "      <td>YtdOIvYescf0uFTgg5owJw, GGI39_EL1ERSqyWX1tEjMA...</td>\n",
       "      <td>1</td>\n",
       "      <td>...</td>\n",
       "      <td>1</td>\n",
       "      <td>0</td>\n",
       "      <td>0</td>\n",
       "      <td>0</td>\n",
       "      <td>0</td>\n",
       "      <td>2</td>\n",
       "      <td>0</td>\n",
       "      <td>0</td>\n",
       "      <td>1</td>\n",
       "      <td>0</td>\n",
       "    </tr>\n",
       "    <tr>\n",
       "      <th>2</th>\n",
       "      <td>--DKDJlRHfsvufdGSk_Sdw</td>\n",
       "      <td>Tony</td>\n",
       "      <td>1</td>\n",
       "      <td>2016-07-25 06:14:00</td>\n",
       "      <td>0</td>\n",
       "      <td>0</td>\n",
       "      <td>0</td>\n",
       "      <td>NaN</td>\n",
       "      <td>None</td>\n",
       "      <td>0</td>\n",
       "      <td>...</td>\n",
       "      <td>0</td>\n",
       "      <td>0</td>\n",
       "      <td>0</td>\n",
       "      <td>0</td>\n",
       "      <td>0</td>\n",
       "      <td>2</td>\n",
       "      <td>0</td>\n",
       "      <td>0</td>\n",
       "      <td>0</td>\n",
       "      <td>0</td>\n",
       "    </tr>\n",
       "    <tr>\n",
       "      <th>3</th>\n",
       "      <td>--KQJPdrU0Md97DiOliDzw</td>\n",
       "      <td>Steve</td>\n",
       "      <td>166</td>\n",
       "      <td>2006-01-17 19:00:28</td>\n",
       "      <td>306</td>\n",
       "      <td>148</td>\n",
       "      <td>176</td>\n",
       "      <td>2009,2010,2011</td>\n",
       "      <td>EnZb0blM78cUkBLfeivJaQ, C-uhHcfU7Iat9NEx726_fQ...</td>\n",
       "      <td>6</td>\n",
       "      <td>...</td>\n",
       "      <td>6</td>\n",
       "      <td>2</td>\n",
       "      <td>1</td>\n",
       "      <td>4</td>\n",
       "      <td>18</td>\n",
       "      <td>26</td>\n",
       "      <td>41</td>\n",
       "      <td>41</td>\n",
       "      <td>18</td>\n",
       "      <td>12</td>\n",
       "    </tr>\n",
       "    <tr>\n",
       "      <th>4</th>\n",
       "      <td>--nIqAJNHk0kc2_uFJ7LMA</td>\n",
       "      <td>Mark</td>\n",
       "      <td>1</td>\n",
       "      <td>2012-06-26 22:01:35</td>\n",
       "      <td>1</td>\n",
       "      <td>0</td>\n",
       "      <td>0</td>\n",
       "      <td>NaN</td>\n",
       "      <td>4TU0b-4_AT_KWKEP7-Qzwg, GuKDVWftscPZ1CT9CcihUA...</td>\n",
       "      <td>1</td>\n",
       "      <td>...</td>\n",
       "      <td>0</td>\n",
       "      <td>0</td>\n",
       "      <td>0</td>\n",
       "      <td>0</td>\n",
       "      <td>0</td>\n",
       "      <td>1</td>\n",
       "      <td>0</td>\n",
       "      <td>0</td>\n",
       "      <td>0</td>\n",
       "      <td>0</td>\n",
       "    </tr>\n",
       "  </tbody>\n",
       "</table>\n",
       "<p>5 rows × 22 columns</p>\n",
       "</div>"
      ],
      "text/plain": [
       "                  user_id     name  review_count        yelping_since  useful  \\\n",
       "0  --Br-QsbO9ad5GbZxVGxaw  Melanie            12  2015-06-10 00:58:00      21   \n",
       "1  --BumyUHiO_7YsHurb9Hkw    Sapna            76  2017-01-13 13:32:40      43   \n",
       "2  --DKDJlRHfsvufdGSk_Sdw     Tony             1  2016-07-25 06:14:00       0   \n",
       "3  --KQJPdrU0Md97DiOliDzw    Steve           166  2006-01-17 19:00:28     306   \n",
       "4  --nIqAJNHk0kc2_uFJ7LMA     Mark             1  2012-06-26 22:01:35       1   \n",
       "\n",
       "   funny  cool           elite  \\\n",
       "0      5     2             NaN   \n",
       "1      8    13       2017,2018   \n",
       "2      0     0             NaN   \n",
       "3    148   176  2009,2010,2011   \n",
       "4      0     0             NaN   \n",
       "\n",
       "                                             friends  fans  ...  \\\n",
       "0                                               None     0  ...   \n",
       "1  YtdOIvYescf0uFTgg5owJw, GGI39_EL1ERSqyWX1tEjMA...     1  ...   \n",
       "2                                               None     0  ...   \n",
       "3  EnZb0blM78cUkBLfeivJaQ, C-uhHcfU7Iat9NEx726_fQ...     6  ...   \n",
       "4  4TU0b-4_AT_KWKEP7-Qzwg, GuKDVWftscPZ1CT9CcihUA...     1  ...   \n",
       "\n",
       "   compliment_more  compliment_profile  compliment_cute  compliment_list  \\\n",
       "0                0                   0                0                0   \n",
       "1                1                   0                0                0   \n",
       "2                0                   0                0                0   \n",
       "3                6                   2                1                4   \n",
       "4                0                   0                0                0   \n",
       "\n",
       "   compliment_note  compliment_plain  compliment_cool  compliment_funny  \\\n",
       "0                0                 0                0                 0   \n",
       "1                0                 2                0                 0   \n",
       "2                0                 2                0                 0   \n",
       "3               18                26               41                41   \n",
       "4                0                 1                0                 0   \n",
       "\n",
       "   compliment_writer  compliment_photos  \n",
       "0                  0                  0  \n",
       "1                  1                  0  \n",
       "2                  0                  0  \n",
       "3                 18                 12  \n",
       "4                  0                  0  \n",
       "\n",
       "[5 rows x 22 columns]"
      ]
     },
     "execution_count": 21,
     "metadata": {},
     "output_type": "execute_result"
    }
   ],
   "source": [
    "df_user=df_user.drop(df_user.columns[0], axis=1)\n",
    "df_user.head()"
   ]
  },
  {
   "cell_type": "code",
   "execution_count": 22,
   "metadata": {},
   "outputs": [],
   "source": [
    "analysis_df = pd.DataFrame()"
   ]
  },
  {
   "cell_type": "code",
   "execution_count": 39,
   "metadata": {},
   "outputs": [],
   "source": [
    "#textstat.flesch_reading_ease(.id)\n",
    "readablity = []\n",
    "for text in df_review['text']:\n",
    "    readablity.append(textstat.flesch_reading_ease((text)))\n",
    "analysis_df['flesch_reading_ease']=readablity"
   ]
  },
  {
   "cell_type": "code",
   "execution_count": 24,
   "metadata": {},
   "outputs": [],
   "source": [
    "smog = []\n",
    "for text in df_review['text']:\n",
    "    smog.append(textstat.smog_index(text))"
   ]
  },
  {
   "cell_type": "code",
   "execution_count": 25,
   "metadata": {},
   "outputs": [],
   "source": [
    "coleman_liau=[]\n",
    "for text in df_review['text']:\n",
    "    coleman_liau.append(textstat.coleman_liau_index(text))\n"
   ]
  },
  {
   "cell_type": "code",
   "execution_count": 26,
   "metadata": {},
   "outputs": [],
   "source": [
    "sentence_count=[]\n",
    "for text in df_review['text']:\n",
    "    sentence_count.append(textstat.sentence_count(text))"
   ]
  },
  {
   "cell_type": "code",
   "execution_count": 27,
   "metadata": {},
   "outputs": [],
   "source": [
    "gunning_fog=[]\n",
    "for text in df_review['text']:\n",
    "    gunning_fog.append(textstat.gunning_fog(text))"
   ]
  },
  {
   "cell_type": "code",
   "execution_count": 28,
   "metadata": {},
   "outputs": [],
   "source": [
    "flesch_kincaid_grade=[]\n",
    "for text in df_review['text']:\n",
    "    flesch_kincaid_grade.append(textstat.flesch_kincaid_grade(text))"
   ]
  },
  {
   "cell_type": "code",
   "execution_count": 40,
   "metadata": {},
   "outputs": [],
   "source": [
    "subjectivity_list=[]\n",
    "polarity_list=[]\n",
    "for text in df_review['text']:\n",
    "    subjectivity_list.append(TextBlob(text).sentiment.subjectivity)\n",
    "    polarity_list.append(TextBlob(text).sentiment.polarity)"
   ]
  },
  {
   "cell_type": "code",
   "execution_count": 30,
   "metadata": {},
   "outputs": [],
   "source": [
    "analysis_df['smog']=smog\n",
    "analysis_df['coleman_liau']=coleman_liau\n",
    "analysis_df['sentence_count']=sentence_count\n",
    "analysis_df['gunning_fog']=gunning_fog\n",
    "analysis_df['flesch_kincaid_grade']=flesch_kincaid_grade\n",
    "analysis_df['subjectivity']=subjectivity_list\n",
    "analysis_df['polarity']=polarity_list"
   ]
  },
  {
   "cell_type": "code",
   "execution_count": 36,
   "metadata": {
    "scrolled": true
   },
   "outputs": [
    {
     "data": {
      "text/html": [
       "<div>\n",
       "<style scoped>\n",
       "    .dataframe tbody tr th:only-of-type {\n",
       "        vertical-align: middle;\n",
       "    }\n",
       "\n",
       "    .dataframe tbody tr th {\n",
       "        vertical-align: top;\n",
       "    }\n",
       "\n",
       "    .dataframe thead th {\n",
       "        text-align: right;\n",
       "    }\n",
       "</style>\n",
       "<table border=\"1\" class=\"dataframe\">\n",
       "  <thead>\n",
       "    <tr style=\"text-align: right;\">\n",
       "      <th></th>\n",
       "      <th>flesch_reading_ease</th>\n",
       "      <th>smog</th>\n",
       "      <th>coleman_liau</th>\n",
       "      <th>sentence_count</th>\n",
       "      <th>gunning_fog</th>\n",
       "      <th>flesch_kincaid_grade</th>\n",
       "      <th>subjectivity</th>\n",
       "      <th>polarity</th>\n",
       "      <th>stars</th>\n",
       "      <th>useful</th>\n",
       "      <th>agg</th>\n",
       "      <th>usefull_bin</th>\n",
       "    </tr>\n",
       "  </thead>\n",
       "  <tbody>\n",
       "    <tr>\n",
       "      <th>0</th>\n",
       "      <td>52.16</td>\n",
       "      <td>12.5</td>\n",
       "      <td>9.41</td>\n",
       "      <td>3</td>\n",
       "      <td>16.90</td>\n",
       "      <td>14.9</td>\n",
       "      <td>0.511420</td>\n",
       "      <td>0.511420</td>\n",
       "      <td>4</td>\n",
       "      <td>0</td>\n",
       "      <td>2</td>\n",
       "      <td>0</td>\n",
       "    </tr>\n",
       "    <tr>\n",
       "      <th>1</th>\n",
       "      <td>75.03</td>\n",
       "      <td>0.0</td>\n",
       "      <td>8.88</td>\n",
       "      <td>2</td>\n",
       "      <td>10.46</td>\n",
       "      <td>8.1</td>\n",
       "      <td>0.583333</td>\n",
       "      <td>0.583333</td>\n",
       "      <td>3</td>\n",
       "      <td>1</td>\n",
       "      <td>1</td>\n",
       "      <td>1</td>\n",
       "    </tr>\n",
       "    <tr>\n",
       "      <th>2</th>\n",
       "      <td>80.62</td>\n",
       "      <td>8.2</td>\n",
       "      <td>6.38</td>\n",
       "      <td>5</td>\n",
       "      <td>7.90</td>\n",
       "      <td>6.0</td>\n",
       "      <td>0.484848</td>\n",
       "      <td>0.484848</td>\n",
       "      <td>4</td>\n",
       "      <td>1</td>\n",
       "      <td>1</td>\n",
       "      <td>1</td>\n",
       "    </tr>\n",
       "    <tr>\n",
       "      <th>3</th>\n",
       "      <td>66.74</td>\n",
       "      <td>0.0</td>\n",
       "      <td>10.14</td>\n",
       "      <td>2</td>\n",
       "      <td>8.28</td>\n",
       "      <td>7.2</td>\n",
       "      <td>0.480000</td>\n",
       "      <td>0.480000</td>\n",
       "      <td>3</td>\n",
       "      <td>5</td>\n",
       "      <td>6</td>\n",
       "      <td>1</td>\n",
       "    </tr>\n",
       "    <tr>\n",
       "      <th>4</th>\n",
       "      <td>77.37</td>\n",
       "      <td>9.7</td>\n",
       "      <td>6.50</td>\n",
       "      <td>6</td>\n",
       "      <td>9.42</td>\n",
       "      <td>7.2</td>\n",
       "      <td>0.651389</td>\n",
       "      <td>0.651389</td>\n",
       "      <td>3</td>\n",
       "      <td>2</td>\n",
       "      <td>4</td>\n",
       "      <td>1</td>\n",
       "    </tr>\n",
       "  </tbody>\n",
       "</table>\n",
       "</div>"
      ],
      "text/plain": [
       "   flesch_reading_ease  smog  coleman_liau  sentence_count  gunning_fog  \\\n",
       "0                52.16  12.5          9.41               3        16.90   \n",
       "1                75.03   0.0          8.88               2        10.46   \n",
       "2                80.62   8.2          6.38               5         7.90   \n",
       "3                66.74   0.0         10.14               2         8.28   \n",
       "4                77.37   9.7          6.50               6         9.42   \n",
       "\n",
       "   flesch_kincaid_grade  subjectivity  polarity  stars  useful  agg  \\\n",
       "0                  14.9      0.511420  0.511420      4       0    2   \n",
       "1                   8.1      0.583333  0.583333      3       1    1   \n",
       "2                   6.0      0.484848  0.484848      4       1    1   \n",
       "3                   7.2      0.480000  0.480000      3       5    6   \n",
       "4                   7.2      0.651389  0.651389      3       2    4   \n",
       "\n",
       "  usefull_bin  \n",
       "0           0  \n",
       "1           1  \n",
       "2           1  \n",
       "3           1  \n",
       "4           1  "
      ]
     },
     "execution_count": 36,
     "metadata": {},
     "output_type": "execute_result"
    }
   ],
   "source": [
    "analysis_df.head()"
   ]
  },
  {
   "cell_type": "code",
   "execution_count": 42,
   "metadata": {
    "scrolled": true
   },
   "outputs": [
    {
     "data": {
      "image/png": "[encoded data removed]",
      "text/plain": [
       "<Figure size 432x288 with 1 Axes>"
      ]
     },
     "metadata": {},
     "output_type": "display_data"
    }
   ],
   "source": [
    "\n",
    "\n",
    "import matplotlib.pyplot as plt\n",
    "\n",
    "sns.boxplot(x=polarity_list)\n",
    "plt.savefig('boxplots/yelp_polarity.png')\n"
   ]
  },
  {
   "cell_type": "code",
   "execution_count": 32,
   "metadata": {},
   "outputs": [],
   "source": [
    "analysis_df['stars']=df_review['stars']\n",
    "analysis_df['useful']=df_review['useful']\n",
    "analysis_df['agg']=df_review['useful']+df_review['funny']+df_review['cool']\n",
    "analysis_df['usefull_bin'] = np.where(analysis_df['useful']==0, '0', '1')"
   ]
  },
  {
   "cell_type": "code",
   "execution_count": 33,
   "metadata": {},
   "outputs": [],
   "source": [
    "analysis_df['stars']=df_review['stars']"
   ]
  },
  {
   "cell_type": "code",
   "execution_count": 34,
   "metadata": {
    "scrolled": true
   },
   "outputs": [],
   "source": [
    "analysis_df.dtypes\n",
    "analysis_df.groupby('usefull_bin').count()\n",
    "analysis_df.to_csv(\"D:/Trinity_DS/Dissertations/201907/yelp/analysis.csv\",index=False)\n",
    "#analysis_df.groupby('usefull_bin').mean()\n",
    "#analysis_df.groupby('usefull_bin').var()"
   ]
  },
  {
   "cell_type": "code",
   "execution_count": null,
   "metadata": {},
   "outputs": [],
   "source": [
    "X= np.array(analysis_df.drop(['usefull_bin','agg','useful'], axis=1))\n",
    "#X= np.array(analysis_df['smog'])\n",
    "Y= np.array(analysis_df['usefull_bin'])\n",
    "X_train, X_test, y_train, y_test = train_test_split(\n",
    "    X, Y, test_size=0.33, random_state=303)\n",
    "X_train_scaled = preprocessing.scale(X_train)\n",
    "X_test_scaled = preprocessing.scale(X_test)"
   ]
  },
  {
   "cell_type": "markdown",
   "metadata": {},
   "source": [
    "# Decision Tree"
   ]
  },
  {
   "cell_type": "code",
   "execution_count": 124,
   "metadata": {},
   "outputs": [
    {
     "data": {
      "text/plain": [
       "0.9999519466415507"
      ]
     },
     "execution_count": 124,
     "metadata": {},
     "output_type": "execute_result"
    }
   ],
   "source": [
    "clf = tree.DecisionTreeClassifier()\n",
    "clf = clf.fit(X_train_scaled, y_train)\n",
    "Y_train_Pred=clf.predict(X_train_scaled)\n",
    "accuracy_score(y_train, Y_train_Pred)"
   ]
  },
  {
   "cell_type": "code",
   "execution_count": 115,
   "metadata": {
    "scrolled": true
   },
   "outputs": [
    {
     "name": "stdout",
     "output_type": "stream",
     "text": [
      "              precision    recall  f1-score   support\n",
      "\n",
      "           0       0.60      0.60      0.60     28694\n",
      "           1       0.49      0.49      0.49     22555\n",
      "\n",
      "    accuracy                           0.55     51249\n",
      "   macro avg       0.54      0.54      0.54     51249\n",
      "weighted avg       0.55      0.55      0.55     51249\n",
      "\n"
     ]
    }
   ],
   "source": [
    "Y_test_Pred=clf.predict(X_test_scaled)\n",
    "target_names = ['0', '1']\n",
    "print(classification_report(y_test, Y_test_Pred, target_names=target_names))"
   ]
  },
  {
   "cell_type": "markdown",
   "metadata": {},
   "source": [
    "# Support Vector Machines"
   ]
  },
  {
   "cell_type": "code",
   "execution_count": 618,
   "metadata": {},
   "outputs": [
    {
     "data": {
      "text/plain": [
       "['flesch_reading_ease',\n",
       " 'smog',\n",
       " 'coleman_liau',\n",
       " 'sentence_count',\n",
       " 'gunning_fog',\n",
       " 'flesch_kincaid_grade',\n",
       " 'subjectivity',\n",
       " 'polarity',\n",
       " 'stars',\n",
       " 'useful',\n",
       " 'agg',\n",
       " 'usefull_bin',\n",
       " 'date',\n",
       " 'diff_days',\n",
       " 'usefull_diff']"
      ]
     },
     "execution_count": 618,
     "metadata": {},
     "output_type": "execute_result"
    }
   ],
   "source": [
    "list(analysis_df)\n",
    "list(analysis_df)"
   ]
  },
  {
   "cell_type": "code",
   "execution_count": 622,
   "metadata": {},
   "outputs": [],
   "source": [
    "list(analysis_df)\n",
    "X= np.array(analysis_df.drop(['usefull_bin','agg','useful','date','usefull_diff'], axis=1))\n",
    "#X= np.array(analysis_df['smog'])\n",
    "Y= np.array(analysis_df['usefull_bin'])\n",
    "X_train, X_test, y_train, y_test = train_test_split(\n",
    "    X, Y, test_size=0.33, random_state=303)\n",
    "X_train_scaled = preprocessing.scale(X_train)\n",
    "X_test_scaled = preprocessing.scale(X_test)"
   ]
  },
  {
   "cell_type": "code",
   "execution_count": 623,
   "metadata": {},
   "outputs": [
    {
     "data": {
      "text/plain": [
       "SVC(C=10, cache_size=200, class_weight=None, coef0=0.0,\n",
       "    decision_function_shape='ovr', degree=3, gamma='auto', kernel='rbf',\n",
       "    max_iter=-1, probability=False, random_state=None, shrinking=True,\n",
       "    tol=0.001, verbose=False)"
      ]
     },
     "execution_count": 623,
     "metadata": {},
     "output_type": "execute_result"
    }
   ],
   "source": [
    "clf_SVM = SVC(gamma='auto',kernel='rbf',C=10)\n",
    "clf_SVM.fit(X_train_scaled, y_train) "
   ]
  },
  {
   "cell_type": "code",
   "execution_count": 624,
   "metadata": {},
   "outputs": [
    {
     "data": {
      "text/plain": [
       "0.6715072416411183"
      ]
     },
     "execution_count": 624,
     "metadata": {},
     "output_type": "execute_result"
    }
   ],
   "source": [
    "Y_train_Pred=clf_SVM.predict(X_train_scaled)\n",
    "accuracy_score(y_train, Y_train_Pred)"
   ]
  },
  {
   "cell_type": "code",
   "execution_count": 625,
   "metadata": {},
   "outputs": [
    {
     "name": "stdout",
     "output_type": "stream",
     "text": [
      "              precision    recall  f1-score   support\n",
      "\n",
      "           0       0.67      0.80      0.73     28694\n",
      "           1       0.67      0.51      0.58     22555\n",
      "\n",
      "    accuracy                           0.67     51249\n",
      "   macro avg       0.67      0.65      0.65     51249\n",
      "weighted avg       0.67      0.67      0.66     51249\n",
      "\n"
     ]
    }
   ],
   "source": [
    "Y_test_SVM_Pred=clf_SVM.predict(X_test_scaled)\n",
    "Y_test_SVM_Pred\n",
    "target_names=['0','1']\n",
    "print(classification_report(y_test, Y_test_SVM_Pred, target_names=target_names))"
   ]
  },
  {
   "cell_type": "markdown",
   "metadata": {},
   "source": [
    "# Random Forest"
   ]
  },
  {
   "cell_type": "code",
   "execution_count": 627,
   "metadata": {},
   "outputs": [
    {
     "name": "stdout",
     "output_type": "stream",
     "text": [
      "Training Accuracy 0.6715072416411183\n",
      "              precision    recall  f1-score   support\n",
      "\n",
      "           0       0.71      0.00      0.00     28694\n",
      "           1       0.44      1.00      0.61     22555\n",
      "\n",
      "    accuracy                           0.44     51249\n",
      "   macro avg       0.57      0.50      0.31     51249\n",
      "weighted avg       0.59      0.44      0.27     51249\n",
      "\n"
     ]
    }
   ],
   "source": [
    "clf_RF = RandomForestClassifier(n_estimators=100,random_state=0)\n",
    "clf_RF.fit(X_train_scaled, y_train)\n",
    "Y_test_RF_Pred=clf_RF.predict(X_test)\n",
    "print(\"Training Accuracy\",accuracy_score(y_train, Y_train_Pred))\n",
    "target_names=['0','1']\n",
    "print(classification_report(y_test, Y_test_RF_Pred, target_names=target_names))"
   ]
  },
  {
   "cell_type": "code",
   "execution_count": 629,
   "metadata": {},
   "outputs": [
    {
     "name": "stdout",
     "output_type": "stream",
     "text": [
      "Training Accuracy 0.6715072416411183\n"
     ]
    },
    {
     "name": "stderr",
     "output_type": "stream",
     "text": [
      "D:\\Installed_Applications\\Anaconda\\envs\\Yelp\\lib\\site-packages\\sklearn\\metrics\\classification.py:1437: UndefinedMetricWarning: Precision and F-score are ill-defined and being set to 0.0 in labels with no predicted samples.\n",
      "  'precision', 'predicted', average, warn_for)\n"
     ]
    },
    {
     "name": "stdout",
     "output_type": "stream",
     "text": [
      "              precision    recall  f1-score   support\n",
      "\n",
      "           0       0.00      0.00      0.00     28694\n",
      "           1       0.44      1.00      0.61     22555\n",
      "\n",
      "    accuracy                           0.44     51249\n",
      "   macro avg       0.22      0.50      0.31     51249\n",
      "weighted avg       0.19      0.44      0.27     51249\n",
      "\n"
     ]
    }
   ],
   "source": [
    "clf_RF = RandomForestClassifier(n_estimators=1000,random_state=0,max_depth=4)\n",
    "clf_RF.fit(X_train_scaled, y_train)\n",
    "Y_test_RF_Pred=clf_RF.predict(X_test)\n",
    "print(\"Training Accuracy\",accuracy_score(y_train, Y_train_Pred))\n",
    "target_names=['0','1']\n",
    "print(classification_report(y_test, Y_test_RF_Pred, target_names=target_names))"
   ]
  },
  {
   "cell_type": "code",
   "execution_count": 147,
   "metadata": {},
   "outputs": [
    {
     "data": {
      "text/plain": [
       "RandomForestClassifier(bootstrap=True, class_weight=None, criterion='gini',\n",
       "                       max_depth=None, max_features='auto', max_leaf_nodes=None,\n",
       "                       min_impurity_decrease=0.0, min_impurity_split=None,\n",
       "                       min_samples_leaf=1, min_samples_split=2,\n",
       "                       min_weight_fraction_leaf=0.0, n_estimators=2000,\n",
       "                       n_jobs=None, oob_score=False, random_state=0, verbose=0,\n",
       "                       warm_start=False)"
      ]
     },
     "execution_count": 147,
     "metadata": {},
     "output_type": "execute_result"
    }
   ],
   "source": [
    "clf_RF = RandomForestClassifier(n_estimators=2000,random_state=0\n",
    "clf_RF.fit(X_train_scaled, y_train)"
   ]
  },
  {
   "cell_type": "code",
   "execution_count": 148,
   "metadata": {},
   "outputs": [
    {
     "data": {
      "text/plain": [
       "0.9999519466415507"
      ]
     },
     "execution_count": 148,
     "metadata": {},
     "output_type": "execute_result"
    }
   ],
   "source": [
    "Y_train_Pred=clf_RF.predict(X_train_scaled)\n",
    "accuracy_score(y_train, Y_train_Pred)"
   ]
  },
  {
   "cell_type": "code",
   "execution_count": 149,
   "metadata": {},
   "outputs": [
    {
     "name": "stdout",
     "output_type": "stream",
     "text": [
      "              precision    recall  f1-score   support\n",
      "\n",
      "           0       0.00      0.00      0.00     28694\n",
      "           1       0.44      1.00      0.61     22555\n",
      "\n",
      "    accuracy                           0.44     51249\n",
      "   macro avg       0.22      0.50      0.31     51249\n",
      "weighted avg       0.19      0.44      0.27     51249\n",
      "\n"
     ]
    }
   ],
   "source": [
    "Y_test_RF_Pred=clf_RF.predict(X_test)\n",
    "target_names=['0','1']\n",
    "print(classification_report(y_test, Y_test_RF_Pred, target_names=target_names))"
   ]
  },
  {
   "cell_type": "markdown",
   "metadata": {},
   "source": [
    "# Regression Analysis"
   ]
  },
  {
   "cell_type": "code",
   "execution_count": 663,
   "metadata": {},
   "outputs": [
    {
     "data": {
      "image/png": "[encoded data removed]",
      "text/plain": [
       "<Figure size 432x288 with 1 Axes>"
      ]
     },
     "metadata": {},
     "output_type": "display_data"
    }
   ],
   "source": [
    "sns.set(style=\"whitegrid\")\n",
    "ax = sns.boxplot(x=analysis_df[\"useful\"])\n"
   ]
  },
  {
   "cell_type": "code",
   "execution_count": 689,
   "metadata": {},
   "outputs": [
    {
     "name": "stdout",
     "output_type": "stream",
     "text": [
      "['flesch_reading_ease', 'smog', 'coleman_liau', 'sentence_count', 'gunning_fog', 'flesch_kincaid_grade', 'subjectivity', 'polarity', 'stars', 'useful', 'agg', 'usefull_bin', 'date', 'diff_days', 'usefull_diff', 'log_usefull']\n",
      "flesch_reading_ease     float64\n",
      "smog                    float64\n",
      "coleman_liau            float64\n",
      "sentence_count            int64\n",
      "gunning_fog             float64\n",
      "flesch_kincaid_grade    float64\n",
      "subjectivity            float64\n",
      "polarity                float64\n",
      "stars                     int64\n",
      "useful                    int64\n",
      "agg                       int64\n",
      "usefull_bin              object\n",
      "date                     object\n",
      "diff_days               float64\n",
      "usefull_diff            float64\n",
      "log_usefull             float64\n",
      "dtype: object\n"
     ]
    },
    {
     "data": {
      "text/plain": [
       "<matplotlib.axes._subplots.AxesSubplot at 0xf5fe39e8>"
      ]
     },
     "execution_count": 689,
     "metadata": {},
     "output_type": "execute_result"
    },
    {
     "data": {
      "image/png": "[encoded data removed]",
      "text/plain": [
       "<Figure size 432x288 with 1 Axes>"
      ]
     },
     "metadata": {},
     "output_type": "display_data"
    }
   ],
   "source": [
    "print(list(analysis_df))\n",
    "analysis_df['log_usefull']=np.log(analysis_df['useful']+1)\n",
    "print(analysis_df.dtypes)\n",
    "sns.distplot(analysis_df[\"log_usefull\"],bins=int(180/5),  hist=True, kde=True, color = 'darkblue', \n",
    "            )"
   ]
  },
  {
   "cell_type": "code",
   "execution_count": 670,
   "metadata": {
    "scrolled": true
   },
   "outputs": [],
   "source": [
    "analysis_df['date'] =  pd.to_datetime(df_review['date']).dt.date\n",
    "#filtered_df = data_df[data_df['reviews_dateAdded_Date_time'].notnull()]\n",
    "#filtered_df = data_df[data_df['reviews_date_Date_time'].notnull()]\n",
    "#analysis_df['date']-dt.datetime.now().date()-"
   ]
  },
  {
   "cell_type": "code",
   "execution_count": 688,
   "metadata": {},
   "outputs": [
    {
     "data": {
      "text/plain": [
       "count    155300.000000\n",
       "mean          0.020927\n",
       "std           0.061873\n",
       "min           0.000000\n",
       "25%           0.000000\n",
       "50%           0.000000\n",
       "75%           0.026261\n",
       "max           3.580809\n",
       "Name: usefull_diff, dtype: float64"
      ]
     },
     "execution_count": 688,
     "metadata": {},
     "output_type": "execute_result"
    }
   ],
   "source": [
    "analysis_df['diff_days'] = dt.datetime.now().date() - analysis_df['date']\n",
    "analysis_df['diff_days']=(analysis_df['diff_days']/np.timedelta64(1,'M'))\n",
    "\n",
    "\n",
    "analysis_df['usefull_diff'] = (analysis_df['useful']/analysis_df['diff_days'])\n",
    "analysis_df['usefull_diff'].describe()\n",
    "#usefull_diff"
   ]
  },
  {
   "cell_type": "code",
   "execution_count": 672,
   "metadata": {},
   "outputs": [
    {
     "ename": "SyntaxError",
     "evalue": "invalid syntax (<ipython-input-672-107b40b51a83>, line 3)",
     "output_type": "error",
     "traceback": [
      "\u001b[1;36m  File \u001b[1;32m\"<ipython-input-672-107b40b51a83>\"\u001b[1;36m, line \u001b[1;32m3\u001b[0m\n\u001b[1;33m    analysis_df['diff_days']/np.timedelta64(1,'M')).describe()\u001b[0m\n\u001b[1;37m                                                  ^\u001b[0m\n\u001b[1;31mSyntaxError\u001b[0m\u001b[1;31m:\u001b[0m invalid syntax\n"
     ]
    }
   ],
   "source": [
    "analysis_df['diff_days'] = dt.datetime.now().date() - analysis_df['date']\n",
    "analysis_df['diff_days']=(analysis_df['diff_days']/np.timedelta64(1,'M'))\n",
    "analysis_df['diff_days']/np.timedelta64(1,'M')).describe()"
   ]
  },
  {
   "cell_type": "code",
   "execution_count": 673,
   "metadata": {},
   "outputs": [],
   "source": [
    "X= np.array(analysis_df.drop(['usefull_bin','agg','useful','usefull_diff','date'], axis=1))\n",
    "#X= np.array(analysis_df['smog'])\n",
    "Y= np.array(analysis_df['usefull_diff'])\n",
    "X_train, X_test, y_train, y_test = train_test_split(\n",
    "    X, Y, test_size=0.33, random_state=303)\n",
    "X_train_scaled = preprocessing.scale(X_train)\n",
    "X_test_scaled = preprocessing.scale(X_test)"
   ]
  },
  {
   "cell_type": "code",
   "execution_count": 674,
   "metadata": {},
   "outputs": [
    {
     "data": {
      "text/plain": [
       "5.644283912589033"
      ]
     },
     "execution_count": 674,
     "metadata": {},
     "output_type": "execute_result"
    }
   ],
   "source": [
    "reg = LinearRegression().fit(X_train_scaled, y_train)\n",
    "y_pred=reg.predict(X_test_scaled)\n",
    "#scaler.transform(X_test)\n",
    "(mean_squared_error(y_test, y_pred)**0.5)*100\n"
   ]
  },
  {
   "cell_type": "code",
   "execution_count": 691,
   "metadata": {},
   "outputs": [
    {
     "name": "stdout",
     "output_type": "stream",
     "text": [
      "-3.8253150084774985\n"
     ]
    },
    {
     "data": {
      "text/plain": [
       "228.2960923167686"
      ]
     },
     "execution_count": 691,
     "metadata": {},
     "output_type": "execute_result"
    }
   ],
   "source": [
    "\n",
    "X= np.array(analysis_df.drop(['usefull_bin','agg','useful','usefull_diff','date','log_usefull'], axis=1))\n",
    "#X= np.array(analysis_df['smog'])\n",
    "Y= np.array(analysis_df['log_usefull'])\n",
    "X_train, X_test, y_train, y_test = train_test_split(\n",
    "    X, Y, test_size=0.33, random_state=303)\n",
    "X_train_scaled = preprocessing.scale(X_train)\n",
    "X_test_scaled = preprocessing.scale(X_test)\n",
    "reg = LinearRegression().fit(X_train_scaled, y_train)\n",
    "y_pred=reg.predict(X_test_scaled)\n",
    "#scaler.transform(X_test)\n",
    "print(r2_score(y_test, (np.exp(y_pred))))\n",
    "(mean_squared_error(y_test, (np.exp(y_pred)+1))**0.5)*100\n"
   ]
  },
  {
   "cell_type": "code",
   "execution_count": 3,
   "metadata": {},
   "outputs": [],
   "source": [
    "from pattern.en import spelling"
   ]
  },
  {
   "cell_type": "code",
   "execution_count": 704,
   "metadata": {},
   "outputs": [
    {
     "data": {
      "text/plain": [
       "Ridge(alpha=100, copy_X=True, fit_intercept=True, max_iter=None,\n",
       "      normalize=False, random_state=None, solver='auto', tol=0.001)"
      ]
     },
     "execution_count": 704,
     "metadata": {},
     "output_type": "execute_result"
    }
   ],
   "source": [
    "#analysis_df.to_csv(\"D:/Trinity_DS/Dissertations/201907/dataset_v2/analysis_df.csv\", index = None, header=True)\n",
    "clf_ridge = Ridge(alpha=100)\n",
    "clf_ridge.fit(X_train_scaled, y_train) "
   ]
  },
  {
   "cell_type": "code",
   "execution_count": 706,
   "metadata": {},
   "outputs": [
    {
     "data": {
      "text/plain": [
       "43.907020605575525"
      ]
     },
     "execution_count": 706,
     "metadata": {},
     "output_type": "execute_result"
    }
   ],
   "source": [
    "y_pred=clf_ridge.predict(X_test_scaled)\n",
    "#scaler.transform(X_test)\n",
    "mean_squared_error(np.exp(y_pred)-1,y_test)*100\n"
   ]
  },
  {
   "cell_type": "code",
   "execution_count": 700,
   "metadata": {},
   "outputs": [
    {
     "data": {
      "text/plain": [
       "-2.8984192892892358"
      ]
     },
     "execution_count": 700,
     "metadata": {},
     "output_type": "execute_result"
    }
   ],
   "source": [
    "r2_score(np.log(y_test+1),np.log(np.exp(y_pred)+1))"
   ]
  },
  {
   "cell_type": "code",
   "execution_count": 662,
   "metadata": {},
   "outputs": [
    {
     "name": "stdout",
     "output_type": "stream",
     "text": [
      "0.6619989351373675\n",
      "0.4702648266020291\n"
     ]
    }
   ],
   "source": [
    "print(((np.exp(y_pred))-1).mean())\n",
    "print(y_test.mean())"
   ]
  },
  {
   "cell_type": "code",
   "execution_count": 461,
   "metadata": {},
   "outputs": [
    {
     "data": {
      "text/plain": [
       "0.041701879033678196"
      ]
     },
     "execution_count": 461,
     "metadata": {},
     "output_type": "execute_result"
    }
   ],
   "source": [
    "y_pred.std()"
   ]
  },
  {
   "cell_type": "code",
   "execution_count": 547,
   "metadata": {},
   "outputs": [
    {
     "data": {
      "text/plain": [
       "6.156293406291209"
      ]
     },
     "execution_count": 547,
     "metadata": {},
     "output_type": "execute_result"
    }
   ],
   "source": [
    "((sum((y_pred-y_test)**2))/len(y_pred))**0.5*100"
   ]
  },
  {
   "cell_type": "markdown",
   "metadata": {},
   "source": [
    "# Merged Analysis"
   ]
  },
  {
   "cell_type": "code",
   "execution_count": 601,
   "metadata": {
    "scrolled": true
   },
   "outputs": [],
   "source": [
    "list(analysis_df)\n",
    "review_roll_up_df=analysis_df.drop(['usefull_bin','date','diff_days'], axis=1)\n",
    "review_roll_up_df['user_id'] = df_review['user_id']\n",
    "#business_id\n",
    "review_roll_up_df['business_id'] = df_review['business_id']\n",
    "g1 = review_roll_up_df.groupby(['user_id','business_id']).sum()"
   ]
  },
  {
   "cell_type": "code",
   "execution_count": 604,
   "metadata": {
    "scrolled": true
   },
   "outputs": [],
   "source": [
    "review_roll_up_df=g1.reset_index()\n",
    "join_review_user=pd.merge(df_user, review_roll_up_df,on='user_id')"
   ]
  },
  {
   "cell_type": "code",
   "execution_count": 605,
   "metadata": {},
   "outputs": [],
   "source": [
    "list(join_review_user)\n",
    "join_review_user=join_review_user.drop([\n",
    "    'user_id',\n",
    " 'name',\n",
    " 'yelping_since',\n",
    " 'funny',\n",
    " 'cool',\n",
    " 'fans',\n",
    " 'compliment_hot',\n",
    " 'compliment_more',\n",
    " 'compliment_profile',\n",
    " 'compliment_cute',\n",
    " 'compliment_list',\n",
    " 'compliment_note',\n",
    " 'compliment_plain',\n",
    " 'compliment_cool',\n",
    " 'compliment_funny',\n",
    " 'compliment_writer',\n",
    " 'compliment_photos'\n",
    "], axis=1)\n",
    "g2 = join_review_user.groupby(['business_id']).sum()\n",
    "business_lvl_review_user=g2.reset_index()"
   ]
  },
  {
   "cell_type": "code",
   "execution_count": 608,
   "metadata": {},
   "outputs": [
    {
     "ename": "TypeError",
     "evalue": "Index(...) must be called with a collection of some kind, 'business_id' was passed",
     "output_type": "error",
     "traceback": [
      "\u001b[1;31m---------------------------------------------------------------------------\u001b[0m",
      "\u001b[1;31mTypeError\u001b[0m                                 Traceback (most recent call last)",
      "\u001b[1;32m<ipython-input-608-d44d2a90f635>\u001b[0m in \u001b[0;36m<module>\u001b[1;34m\u001b[0m\n\u001b[1;32m----> 1\u001b[1;33m \u001b[0mjoin_review_user\u001b[0m\u001b[1;33m=\u001b[0m\u001b[0mpd\u001b[0m\u001b[1;33m.\u001b[0m\u001b[0mmerge\u001b[0m\u001b[1;33m(\u001b[0m\u001b[0mdf_business\u001b[0m\u001b[1;33m.\u001b[0m\u001b[0mdropna\u001b[0m\u001b[1;33m(\u001b[0m\u001b[0msubset\u001b[0m\u001b[1;33m=\u001b[0m\u001b[1;34m'business_id'\u001b[0m\u001b[1;33m)\u001b[0m\u001b[1;33m,\u001b[0m\u001b[0mbusiness_lvl_review_user\u001b[0m\u001b[1;33m.\u001b[0m\u001b[0mdropna\u001b[0m\u001b[1;33m(\u001b[0m\u001b[0msubset\u001b[0m\u001b[1;33m=\u001b[0m\u001b[1;34m'business_id'\u001b[0m\u001b[1;33m)\u001b[0m \u001b[1;33m,\u001b[0m\u001b[0mon\u001b[0m\u001b[1;33m=\u001b[0m\u001b[1;34m'business_id'\u001b[0m\u001b[1;33m)\u001b[0m\u001b[1;33m\u001b[0m\u001b[1;33m\u001b[0m\u001b[0m\n\u001b[0m",
      "\u001b[1;32mD:\\Installed_Applications\\Anaconda\\envs\\Yelp\\lib\\site-packages\\pandas\\core\\frame.py\u001b[0m in \u001b[0;36mdropna\u001b[1;34m(self, axis, how, thresh, subset, inplace)\u001b[0m\n\u001b[0;32m   4576\u001b[0m             \u001b[1;32mif\u001b[0m \u001b[0msubset\u001b[0m \u001b[1;32mis\u001b[0m \u001b[1;32mnot\u001b[0m \u001b[1;32mNone\u001b[0m\u001b[1;33m:\u001b[0m\u001b[1;33m\u001b[0m\u001b[1;33m\u001b[0m\u001b[0m\n\u001b[0;32m   4577\u001b[0m                 \u001b[0max\u001b[0m \u001b[1;33m=\u001b[0m \u001b[0mself\u001b[0m\u001b[1;33m.\u001b[0m\u001b[0m_get_axis\u001b[0m\u001b[1;33m(\u001b[0m\u001b[0magg_axis\u001b[0m\u001b[1;33m)\u001b[0m\u001b[1;33m\u001b[0m\u001b[1;33m\u001b[0m\u001b[0m\n\u001b[1;32m-> 4578\u001b[1;33m                 \u001b[0mindices\u001b[0m \u001b[1;33m=\u001b[0m \u001b[0max\u001b[0m\u001b[1;33m.\u001b[0m\u001b[0mget_indexer_for\u001b[0m\u001b[1;33m(\u001b[0m\u001b[0msubset\u001b[0m\u001b[1;33m)\u001b[0m\u001b[1;33m\u001b[0m\u001b[1;33m\u001b[0m\u001b[0m\n\u001b[0m\u001b[0;32m   4579\u001b[0m                 \u001b[0mcheck\u001b[0m \u001b[1;33m=\u001b[0m \u001b[0mindices\u001b[0m \u001b[1;33m==\u001b[0m \u001b[1;33m-\u001b[0m\u001b[1;36m1\u001b[0m\u001b[1;33m\u001b[0m\u001b[1;33m\u001b[0m\u001b[0m\n\u001b[0;32m   4580\u001b[0m                 \u001b[1;32mif\u001b[0m \u001b[0mcheck\u001b[0m\u001b[1;33m.\u001b[0m\u001b[0many\u001b[0m\u001b[1;33m(\u001b[0m\u001b[1;33m)\u001b[0m\u001b[1;33m:\u001b[0m\u001b[1;33m\u001b[0m\u001b[1;33m\u001b[0m\u001b[0m\n",
      "\u001b[1;32mD:\\Installed_Applications\\Anaconda\\envs\\Yelp\\lib\\site-packages\\pandas\\core\\indexes\\base.py\u001b[0m in \u001b[0;36mget_indexer_for\u001b[1;34m(self, target, **kwargs)\u001b[0m\n\u001b[0;32m   4453\u001b[0m         \"\"\"\n\u001b[0;32m   4454\u001b[0m         \u001b[1;32mif\u001b[0m \u001b[0mself\u001b[0m\u001b[1;33m.\u001b[0m\u001b[0mis_unique\u001b[0m\u001b[1;33m:\u001b[0m\u001b[1;33m\u001b[0m\u001b[1;33m\u001b[0m\u001b[0m\n\u001b[1;32m-> 4455\u001b[1;33m             \u001b[1;32mreturn\u001b[0m \u001b[0mself\u001b[0m\u001b[1;33m.\u001b[0m\u001b[0mget_indexer\u001b[0m\u001b[1;33m(\u001b[0m\u001b[0mtarget\u001b[0m\u001b[1;33m,\u001b[0m \u001b[1;33m**\u001b[0m\u001b[0mkwargs\u001b[0m\u001b[1;33m)\u001b[0m\u001b[1;33m\u001b[0m\u001b[1;33m\u001b[0m\u001b[0m\n\u001b[0m\u001b[0;32m   4456\u001b[0m         \u001b[0mindexer\u001b[0m\u001b[1;33m,\u001b[0m \u001b[0m_\u001b[0m \u001b[1;33m=\u001b[0m \u001b[0mself\u001b[0m\u001b[1;33m.\u001b[0m\u001b[0mget_indexer_non_unique\u001b[0m\u001b[1;33m(\u001b[0m\u001b[0mtarget\u001b[0m\u001b[1;33m,\u001b[0m \u001b[1;33m**\u001b[0m\u001b[0mkwargs\u001b[0m\u001b[1;33m)\u001b[0m\u001b[1;33m\u001b[0m\u001b[1;33m\u001b[0m\u001b[0m\n\u001b[0;32m   4457\u001b[0m         \u001b[1;32mreturn\u001b[0m \u001b[0mindexer\u001b[0m\u001b[1;33m\u001b[0m\u001b[1;33m\u001b[0m\u001b[0m\n",
      "\u001b[1;32mD:\\Installed_Applications\\Anaconda\\envs\\Yelp\\lib\\site-packages\\pandas\\core\\indexes\\base.py\u001b[0m in \u001b[0;36mget_indexer\u001b[1;34m(self, target, method, limit, tolerance)\u001b[0m\n\u001b[0;32m   2716\u001b[0m     \u001b[1;32mdef\u001b[0m \u001b[0mget_indexer\u001b[0m\u001b[1;33m(\u001b[0m\u001b[0mself\u001b[0m\u001b[1;33m,\u001b[0m \u001b[0mtarget\u001b[0m\u001b[1;33m,\u001b[0m \u001b[0mmethod\u001b[0m\u001b[1;33m=\u001b[0m\u001b[1;32mNone\u001b[0m\u001b[1;33m,\u001b[0m \u001b[0mlimit\u001b[0m\u001b[1;33m=\u001b[0m\u001b[1;32mNone\u001b[0m\u001b[1;33m,\u001b[0m \u001b[0mtolerance\u001b[0m\u001b[1;33m=\u001b[0m\u001b[1;32mNone\u001b[0m\u001b[1;33m)\u001b[0m\u001b[1;33m:\u001b[0m\u001b[1;33m\u001b[0m\u001b[1;33m\u001b[0m\u001b[0m\n\u001b[0;32m   2717\u001b[0m         \u001b[0mmethod\u001b[0m \u001b[1;33m=\u001b[0m \u001b[0mmissing\u001b[0m\u001b[1;33m.\u001b[0m\u001b[0mclean_reindex_fill_method\u001b[0m\u001b[1;33m(\u001b[0m\u001b[0mmethod\u001b[0m\u001b[1;33m)\u001b[0m\u001b[1;33m\u001b[0m\u001b[1;33m\u001b[0m\u001b[0m\n\u001b[1;32m-> 2718\u001b[1;33m         \u001b[0mtarget\u001b[0m \u001b[1;33m=\u001b[0m \u001b[0mensure_index\u001b[0m\u001b[1;33m(\u001b[0m\u001b[0mtarget\u001b[0m\u001b[1;33m)\u001b[0m\u001b[1;33m\u001b[0m\u001b[1;33m\u001b[0m\u001b[0m\n\u001b[0m\u001b[0;32m   2719\u001b[0m         \u001b[1;32mif\u001b[0m \u001b[0mtolerance\u001b[0m \u001b[1;32mis\u001b[0m \u001b[1;32mnot\u001b[0m \u001b[1;32mNone\u001b[0m\u001b[1;33m:\u001b[0m\u001b[1;33m\u001b[0m\u001b[1;33m\u001b[0m\u001b[0m\n\u001b[0;32m   2720\u001b[0m             \u001b[0mtolerance\u001b[0m \u001b[1;33m=\u001b[0m \u001b[0mself\u001b[0m\u001b[1;33m.\u001b[0m\u001b[0m_convert_tolerance\u001b[0m\u001b[1;33m(\u001b[0m\u001b[0mtolerance\u001b[0m\u001b[1;33m,\u001b[0m \u001b[0mtarget\u001b[0m\u001b[1;33m)\u001b[0m\u001b[1;33m\u001b[0m\u001b[1;33m\u001b[0m\u001b[0m\n",
      "\u001b[1;32mD:\\Installed_Applications\\Anaconda\\envs\\Yelp\\lib\\site-packages\\pandas\\core\\indexes\\base.py\u001b[0m in \u001b[0;36mensure_index\u001b[1;34m(index_like, copy)\u001b[0m\n\u001b[0;32m   5376\u001b[0m             \u001b[0mindex_like\u001b[0m \u001b[1;33m=\u001b[0m \u001b[0mcopy\u001b[0m\u001b[1;33m(\u001b[0m\u001b[0mindex_like\u001b[0m\u001b[1;33m)\u001b[0m\u001b[1;33m\u001b[0m\u001b[1;33m\u001b[0m\u001b[0m\n\u001b[0;32m   5377\u001b[0m \u001b[1;33m\u001b[0m\u001b[0m\n\u001b[1;32m-> 5378\u001b[1;33m     \u001b[1;32mreturn\u001b[0m \u001b[0mIndex\u001b[0m\u001b[1;33m(\u001b[0m\u001b[0mindex_like\u001b[0m\u001b[1;33m)\u001b[0m\u001b[1;33m\u001b[0m\u001b[1;33m\u001b[0m\u001b[0m\n\u001b[0m\u001b[0;32m   5379\u001b[0m \u001b[1;33m\u001b[0m\u001b[0m\n\u001b[0;32m   5380\u001b[0m \u001b[1;33m\u001b[0m\u001b[0m\n",
      "\u001b[1;32mD:\\Installed_Applications\\Anaconda\\envs\\Yelp\\lib\\site-packages\\pandas\\core\\indexes\\base.py\u001b[0m in \u001b[0;36m__new__\u001b[1;34m(cls, data, dtype, copy, name, fastpath, tupleize_cols, **kwargs)\u001b[0m\n\u001b[0;32m    466\u001b[0m                          **kwargs)\n\u001b[0;32m    467\u001b[0m         \u001b[1;32melif\u001b[0m \u001b[0mdata\u001b[0m \u001b[1;32mis\u001b[0m \u001b[1;32mNone\u001b[0m \u001b[1;32mor\u001b[0m \u001b[0mis_scalar\u001b[0m\u001b[1;33m(\u001b[0m\u001b[0mdata\u001b[0m\u001b[1;33m)\u001b[0m\u001b[1;33m:\u001b[0m\u001b[1;33m\u001b[0m\u001b[1;33m\u001b[0m\u001b[0m\n\u001b[1;32m--> 468\u001b[1;33m             \u001b[0mcls\u001b[0m\u001b[1;33m.\u001b[0m\u001b[0m_scalar_data_error\u001b[0m\u001b[1;33m(\u001b[0m\u001b[0mdata\u001b[0m\u001b[1;33m)\u001b[0m\u001b[1;33m\u001b[0m\u001b[1;33m\u001b[0m\u001b[0m\n\u001b[0m\u001b[0;32m    469\u001b[0m         \u001b[1;32melse\u001b[0m\u001b[1;33m:\u001b[0m\u001b[1;33m\u001b[0m\u001b[1;33m\u001b[0m\u001b[0m\n\u001b[0;32m    470\u001b[0m             \u001b[1;32mif\u001b[0m \u001b[0mtupleize_cols\u001b[0m \u001b[1;32mand\u001b[0m \u001b[0mis_list_like\u001b[0m\u001b[1;33m(\u001b[0m\u001b[0mdata\u001b[0m\u001b[1;33m)\u001b[0m\u001b[1;33m:\u001b[0m\u001b[1;33m\u001b[0m\u001b[1;33m\u001b[0m\u001b[0m\n",
      "\u001b[1;32mD:\\Installed_Applications\\Anaconda\\envs\\Yelp\\lib\\site-packages\\pandas\\core\\indexes\\base.py\u001b[0m in \u001b[0;36m_scalar_data_error\u001b[1;34m(cls, data)\u001b[0m\n\u001b[0;32m   3797\u001b[0m         raise TypeError('{0}(...) must be called with a collection of some '\n\u001b[0;32m   3798\u001b[0m                         'kind, {1} was passed'.format(cls.__name__,\n\u001b[1;32m-> 3799\u001b[1;33m                                                       repr(data)))\n\u001b[0m\u001b[0;32m   3800\u001b[0m \u001b[1;33m\u001b[0m\u001b[0m\n\u001b[0;32m   3801\u001b[0m     \u001b[1;33m@\u001b[0m\u001b[0mclassmethod\u001b[0m\u001b[1;33m\u001b[0m\u001b[1;33m\u001b[0m\u001b[0m\n",
      "\u001b[1;31mTypeError\u001b[0m: Index(...) must be called with a collection of some kind, 'business_id' was passed"
     ]
    }
   ],
   "source": [
    "join_review_user=pd.merge(df_business.dropna(subset='business_id'),business_lvl_review_user.dropna(subset='business_id') ,on='business_id')"
   ]
  },
  {
   "cell_type": "code",
   "execution_count": 596,
   "metadata": {
    "scrolled": true
   },
   "outputs": [
    {
     "data": {
      "text/plain": [
       "['flesch_reading_ease',\n",
       " 'smog',\n",
       " 'coleman_liau',\n",
       " 'sentence_count',\n",
       " 'gunning_fog',\n",
       " 'flesch_kincaid_grade',\n",
       " 'subjectivity',\n",
       " 'polarity',\n",
       " 'stars',\n",
       " 'useful',\n",
       " 'agg',\n",
       " 'usefull_bin',\n",
       " 'date',\n",
       " 'diff_days',\n",
       " 'usefull_diff']"
      ]
     },
     "execution_count": 596,
     "metadata": {},
     "output_type": "execute_result"
    }
   ],
   "source": [
    "list(analysis_df)"
   ]
  },
  {
   "cell_type": "code",
   "execution_count": 590,
   "metadata": {
    "scrolled": true
   },
   "outputs": [
    {
     "data": {
      "text/plain": [
       "0         6ueacQ4py4qK5Gp9BFGvnw\n",
       "1         mG71gQ5HWl7ut9OCN6NJKA\n",
       "2         z5dE6ACPVnoyOOiAynMhmw\n",
       "3         v2o2rsEDfXVCtmMGa8gPBw\n",
       "4         68PJJkcq_i0SlLqO6t7Qxw\n",
       "5         _cjPEH9wXhKS-HQe_U3M4Q\n",
       "6         LBHbyID7tcaGszznHtnCrw\n",
       "7         D1lAVtlav4atQTJnIvtcpw\n",
       "8         QFPS9JBNdOOHVP0C3pSslw\n",
       "9         WeKF3N1MK0eJQmZdxPL9pQ\n",
       "10        Pthcdg09sHQ9M9Tj5P9gfQ\n",
       "11        kAjCI0-7igmzWdsXbOuYWQ\n",
       "12        N8bCOvrGH69jD3-CRc6Fpw\n",
       "13        YtfQQHdcQ_bGl2V0Agxw1A\n",
       "14        hkZh4tAa2oJ34i8hxej6Zg\n",
       "15        Orgm9nmcClxnAUva4nOKyA\n",
       "16        l2WFLLHJnO0cCheozTaRXQ\n",
       "17        Qa4eXuZ1IFPwnVXJcpZWtw\n",
       "18        BS0GcQ1kUag8YJ2qcBH2lQ\n",
       "19        pdE-moDQznZL4sUX-jGKdA\n",
       "20        WNnkyVvBfY1vTqiqSufZQA\n",
       "21        fZIrPIK0RBEN2OzwUhi71Q\n",
       "22        f-ookZOX4pBNldaOHMkJ4A\n",
       "23        nYg54aDTwBvO022bqZgjRw\n",
       "24        vMqUZEaqALd6Q9b4lO-62g\n",
       "25        3xUoXuEgJhHlSgBsSfKeCQ\n",
       "26        GcxE5hK_TaHP4EZFDYz2mg\n",
       "27        ryI7UszOtakwc8goHI3ojA\n",
       "28        8KkyDoWrqOeZb--qUtNwjQ\n",
       "29        VTs4f6LnUMHD4ysOezHSUQ\n",
       "                   ...          \n",
       "151463    WukGQeRaSEW0VlWvLvBZ9Q\n",
       "151464    aY26EcqiP-AbcKTn23PqpQ\n",
       "151465    XZxJ4fG-4a3PP9VP5jvDWw\n",
       "151466                    #NAME?\n",
       "151467    RWFC8Ht9gWcRc2vX57OPsA\n",
       "151468    wfnvI08SMHeIH6_lOeZ7xA\n",
       "151469    A-UC_QZwS1_gDB_masfJGA\n",
       "151470    846lAt9k0-jjM8TbBIRAmg\n",
       "151471    siG1NvTQrnJ9OT-FPAx4WA\n",
       "151472    yW19YczqSrYmWNsG4A6P1g\n",
       "151473    eSp5ge9VAwTywZKlJ_LBvA\n",
       "151474    kIrjc7PrdoSpEubQ_aszdw\n",
       "151475    PXN0l42g6IWp18NGJ7yn5w\n",
       "151476    4RgQVYMOhlTwQ-_xmQB9mQ\n",
       "151477    JnKzrXKxY1cThJ0vNk-4pA\n",
       "151478    5H7AyjxmLGuEjigfXVApZg\n",
       "151479    ugWB_hkm21s9v8xxAkmNVg\n",
       "151480    ENplmnTDn6Xpbt548yAtZQ\n",
       "151481    Lfl9kppQhikig4xI3UdjOA\n",
       "151482    ejKXczjEkm1gzyRdblQm8w\n",
       "151483    6b0Cy4MPzyKMo6cAhYHY9Q\n",
       "151484    57_msr8gjNakjGO-1f6B_g\n",
       "151485    z9SjyM0Ixr1ud8zI7Y93-A\n",
       "151486    URvh6DgFyA-d6Z7OVKxczg\n",
       "151487    DT7iqs2I804ECr9p5VFMrA\n",
       "151488    tIXpNWE6R1yadAThbSefHw\n",
       "151489    mqlZSZ34ff6pJxn3dpTwAw\n",
       "151490    WHfgo788tdCywQbgG04rDA\n",
       "151491    0rjArZxONWhzsr58ddAeEQ\n",
       "151492    wSojc-y-d7MWiGWdy8deCg\n",
       "Name: business_id, Length: 151493, dtype: object"
      ]
     },
     "execution_count": 590,
     "metadata": {},
     "output_type": "execute_result"
    }
   ],
   "source": [
    "join_review_user=pd.merge(df_user, review_roll_up_df1,on='user_id')\n",
    "list(join_review_user)\n",
    "join_review_user['business_id']"
   ]
  },
  {
   "cell_type": "code",
   "execution_count": 591,
   "metadata": {},
   "outputs": [
    {
     "ename": "KeyError",
     "evalue": "'business_id'",
     "output_type": "error",
     "traceback": [
      "\u001b[1;31m---------------------------------------------------------------------------\u001b[0m",
      "\u001b[1;31mKeyError\u001b[0m                                  Traceback (most recent call last)",
      "\u001b[1;32m<ipython-input-591-be23ddb11606>\u001b[0m in \u001b[0;36m<module>\u001b[1;34m\u001b[0m\n\u001b[1;32m----> 1\u001b[1;33m \u001b[0mmerged_final_df\u001b[0m\u001b[1;33m=\u001b[0m\u001b[0mpd\u001b[0m\u001b[1;33m.\u001b[0m\u001b[0mmerge\u001b[0m\u001b[1;33m(\u001b[0m\u001b[0mdf_business\u001b[0m\u001b[1;33m,\u001b[0m \u001b[0mjoin_review_user\u001b[0m\u001b[1;33m,\u001b[0m\u001b[0mon\u001b[0m\u001b[1;33m=\u001b[0m\u001b[1;34m'business_id'\u001b[0m\u001b[1;33m,\u001b[0m\u001b[0mhow\u001b[0m\u001b[1;33m=\u001b[0m\u001b[1;34m'right'\u001b[0m\u001b[1;33m)\u001b[0m\u001b[1;33m\u001b[0m\u001b[1;33m\u001b[0m\u001b[0m\n\u001b[0m",
      "\u001b[1;32mD:\\Installed_Applications\\Anaconda\\envs\\Yelp\\lib\\site-packages\\pandas\\core\\reshape\\merge.py\u001b[0m in \u001b[0;36mmerge\u001b[1;34m(left, right, how, on, left_on, right_on, left_index, right_index, sort, suffixes, copy, indicator, validate)\u001b[0m\n\u001b[0;32m     45\u001b[0m                          \u001b[0mright_index\u001b[0m\u001b[1;33m=\u001b[0m\u001b[0mright_index\u001b[0m\u001b[1;33m,\u001b[0m \u001b[0msort\u001b[0m\u001b[1;33m=\u001b[0m\u001b[0msort\u001b[0m\u001b[1;33m,\u001b[0m \u001b[0msuffixes\u001b[0m\u001b[1;33m=\u001b[0m\u001b[0msuffixes\u001b[0m\u001b[1;33m,\u001b[0m\u001b[1;33m\u001b[0m\u001b[1;33m\u001b[0m\u001b[0m\n\u001b[0;32m     46\u001b[0m                          \u001b[0mcopy\u001b[0m\u001b[1;33m=\u001b[0m\u001b[0mcopy\u001b[0m\u001b[1;33m,\u001b[0m \u001b[0mindicator\u001b[0m\u001b[1;33m=\u001b[0m\u001b[0mindicator\u001b[0m\u001b[1;33m,\u001b[0m\u001b[1;33m\u001b[0m\u001b[1;33m\u001b[0m\u001b[0m\n\u001b[1;32m---> 47\u001b[1;33m                          validate=validate)\n\u001b[0m\u001b[0;32m     48\u001b[0m     \u001b[1;32mreturn\u001b[0m \u001b[0mop\u001b[0m\u001b[1;33m.\u001b[0m\u001b[0mget_result\u001b[0m\u001b[1;33m(\u001b[0m\u001b[1;33m)\u001b[0m\u001b[1;33m\u001b[0m\u001b[1;33m\u001b[0m\u001b[0m\n\u001b[0;32m     49\u001b[0m \u001b[1;33m\u001b[0m\u001b[0m\n",
      "\u001b[1;32mD:\\Installed_Applications\\Anaconda\\envs\\Yelp\\lib\\site-packages\\pandas\\core\\reshape\\merge.py\u001b[0m in \u001b[0;36m__init__\u001b[1;34m(self, left, right, how, on, left_on, right_on, axis, left_index, right_index, sort, suffixes, copy, indicator, validate)\u001b[0m\n\u001b[0;32m    527\u001b[0m         (self.left_join_keys,\n\u001b[0;32m    528\u001b[0m          \u001b[0mself\u001b[0m\u001b[1;33m.\u001b[0m\u001b[0mright_join_keys\u001b[0m\u001b[1;33m,\u001b[0m\u001b[1;33m\u001b[0m\u001b[1;33m\u001b[0m\u001b[0m\n\u001b[1;32m--> 529\u001b[1;33m          self.join_names) = self._get_merge_keys()\n\u001b[0m\u001b[0;32m    530\u001b[0m \u001b[1;33m\u001b[0m\u001b[0m\n\u001b[0;32m    531\u001b[0m         \u001b[1;31m# validate the merge keys dtypes. We may need to coerce\u001b[0m\u001b[1;33m\u001b[0m\u001b[1;33m\u001b[0m\u001b[1;33m\u001b[0m\u001b[0m\n",
      "\u001b[1;32mD:\\Installed_Applications\\Anaconda\\envs\\Yelp\\lib\\site-packages\\pandas\\core\\reshape\\merge.py\u001b[0m in \u001b[0;36m_get_merge_keys\u001b[1;34m(self)\u001b[0m\n\u001b[0;32m    844\u001b[0m                         \u001b[0mright_keys\u001b[0m\u001b[1;33m.\u001b[0m\u001b[0mappend\u001b[0m\u001b[1;33m(\u001b[0m\u001b[0mrk\u001b[0m\u001b[1;33m)\u001b[0m\u001b[1;33m\u001b[0m\u001b[1;33m\u001b[0m\u001b[0m\n\u001b[0;32m    845\u001b[0m                     \u001b[1;32mif\u001b[0m \u001b[0mlk\u001b[0m \u001b[1;32mis\u001b[0m \u001b[1;32mnot\u001b[0m \u001b[1;32mNone\u001b[0m\u001b[1;33m:\u001b[0m\u001b[1;33m\u001b[0m\u001b[1;33m\u001b[0m\u001b[0m\n\u001b[1;32m--> 846\u001b[1;33m                         \u001b[0mleft_keys\u001b[0m\u001b[1;33m.\u001b[0m\u001b[0mappend\u001b[0m\u001b[1;33m(\u001b[0m\u001b[0mleft\u001b[0m\u001b[1;33m.\u001b[0m\u001b[0m_get_label_or_level_values\u001b[0m\u001b[1;33m(\u001b[0m\u001b[0mlk\u001b[0m\u001b[1;33m)\u001b[0m\u001b[1;33m)\u001b[0m\u001b[1;33m\u001b[0m\u001b[1;33m\u001b[0m\u001b[0m\n\u001b[0m\u001b[0;32m    847\u001b[0m                         \u001b[0mjoin_names\u001b[0m\u001b[1;33m.\u001b[0m\u001b[0mappend\u001b[0m\u001b[1;33m(\u001b[0m\u001b[0mlk\u001b[0m\u001b[1;33m)\u001b[0m\u001b[1;33m\u001b[0m\u001b[1;33m\u001b[0m\u001b[0m\n\u001b[0;32m    848\u001b[0m                     \u001b[1;32melse\u001b[0m\u001b[1;33m:\u001b[0m\u001b[1;33m\u001b[0m\u001b[1;33m\u001b[0m\u001b[0m\n",
      "\u001b[1;32mD:\\Installed_Applications\\Anaconda\\envs\\Yelp\\lib\\site-packages\\pandas\\core\\generic.py\u001b[0m in \u001b[0;36m_get_label_or_level_values\u001b[1;34m(self, key, axis)\u001b[0m\n\u001b[0;32m   1704\u001b[0m             \u001b[0mvalues\u001b[0m \u001b[1;33m=\u001b[0m \u001b[0mself\u001b[0m\u001b[1;33m.\u001b[0m\u001b[0maxes\u001b[0m\u001b[1;33m[\u001b[0m\u001b[0maxis\u001b[0m\u001b[1;33m]\u001b[0m\u001b[1;33m.\u001b[0m\u001b[0mget_level_values\u001b[0m\u001b[1;33m(\u001b[0m\u001b[0mkey\u001b[0m\u001b[1;33m)\u001b[0m\u001b[1;33m.\u001b[0m\u001b[0m_values\u001b[0m\u001b[1;33m\u001b[0m\u001b[1;33m\u001b[0m\u001b[0m\n\u001b[0;32m   1705\u001b[0m         \u001b[1;32melse\u001b[0m\u001b[1;33m:\u001b[0m\u001b[1;33m\u001b[0m\u001b[1;33m\u001b[0m\u001b[0m\n\u001b[1;32m-> 1706\u001b[1;33m             \u001b[1;32mraise\u001b[0m \u001b[0mKeyError\u001b[0m\u001b[1;33m(\u001b[0m\u001b[0mkey\u001b[0m\u001b[1;33m)\u001b[0m\u001b[1;33m\u001b[0m\u001b[1;33m\u001b[0m\u001b[0m\n\u001b[0m\u001b[0;32m   1707\u001b[0m \u001b[1;33m\u001b[0m\u001b[0m\n\u001b[0;32m   1708\u001b[0m         \u001b[1;31m# Check for duplicates\u001b[0m\u001b[1;33m\u001b[0m\u001b[1;33m\u001b[0m\u001b[1;33m\u001b[0m\u001b[0m\n",
      "\u001b[1;31mKeyError\u001b[0m: 'business_id'"
     ]
    }
   ],
   "source": [
    "merged_final_df=pd.merge(df_business, join_review_user,on='business_id',how='right')"
   ]
  },
  {
   "cell_type": "code",
   "execution_count": null,
   "metadata": {},
   "outputs": [],
   "source": []
  }
 ],
 "metadata": {
  "kernelspec": {
   "display_name": "Python 3",
   "language": "python",
   "name": "python3"
  },
  "language_info": {
   "codemirror_mode": {
    "name": "ipython",
    "version": 3
   },
   "file_extension": ".py",
   "mimetype": "text/x-python",
   "name": "python",
   "nbconvert_exporter": "python",
   "pygments_lexer": "ipython3",
   "version": "3.7.3"
  }
 },
 "nbformat": 4,
 "nbformat_minor": 2
}
